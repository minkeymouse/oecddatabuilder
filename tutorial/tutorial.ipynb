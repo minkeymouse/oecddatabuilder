{
 "cells": [
  {
   "cell_type": "markdown",
   "id": "7f1aced3",
   "metadata": {},
   "source": [
    "# From OECD API to your own academic dataset tutorial\n",
    "\n",
    "- OECD Data Explorer has been providing more and more useful data for researchers in variety of fields.\n",
    "\n",
    "- During COVID period, OECD had launched newly refined OECD data explorer to feature more intuitive UI for accessing OECD database.\n",
    "\n",
    "- Many researchers has been benefitting from them and now they seem to be opening up with more data with OECD developer's API.\n",
    "\n",
    "- ISSUE with this kind of data is that users' demand varies. Especially when collecting large amount of data with specific filtering for each time series dataset.\n",
    "\n",
    "- This made users really difficult to use API for downloading and forced many of them going back to using GUI online."
   ]
  },
  {
   "cell_type": "markdown",
   "id": "b037db45",
   "metadata": {},
   "source": [
    "## Importing the module and checking the API connection.\n",
    "\n",
    "Remember, OECD is imposing 20 queries per minute and 20 downloads per hour limit."
   ]
  },
  {
   "cell_type": "code",
   "execution_count": null,
   "id": "1c71b5f1",
   "metadata": {},
   "outputs": [],
   "source": [
    "import oecddatabuilder as OECD_data\n",
    "\n",
    "OECD_data.utils.test_api_connection()"
   ]
  },
  {
   "cell_type": "markdown",
   "id": "359c57cd",
   "metadata": {},
   "source": [
    "You can test your API connection here."
   ]
  },
  {
   "cell_type": "code",
   "execution_count": null,
   "id": "d2163c59",
   "metadata": {},
   "outputs": [
    {
     "name": "stderr",
     "output_type": "stream",
     "text": [
      "INFO:oecddatabuilder.utils:API connection successful.\n"
     ]
    }
   ],
   "source": []
  },
  {
   "cell_type": "code",
   "execution_count": null,
   "id": "e840738c",
   "metadata": {},
   "outputs": [],
   "source": []
  },
  {
   "cell_type": "code",
   "execution_count": 7,
   "id": "1154e85c",
   "metadata": {},
   "outputs": [
    {
     "name": "stderr",
     "output_type": "stream",
     "text": [
      "INFO:oecddatabuilder.recipe_loader:Atomic write successful to /Users/minkeychang/oecddatabuilder/config/recipe.json\n",
      "INFO:oecddatabuilder.recipe_loader:User configuration updated successfully in /Users/minkeychang/oecddatabuilder/config/recipe.json.\n"
     ]
    }
   ],
   "source": [
    "recipe_loader = OECD_data.RecipeLoader()"
   ]
  },
  {
   "cell_type": "code",
   "execution_count": null,
   "id": "5cf7a9f8",
   "metadata": {},
   "outputs": [],
   "source": []
  },
  {
   "cell_type": "code",
   "execution_count": 8,
   "id": "7e395a31",
   "metadata": {},
   "outputs": [
    {
     "name": "stderr",
     "output_type": "stream",
     "text": [
      "INFO:oecddatabuilder.recipe_loader:Indicator 'A' not found in group 'TUTORIAL'. Creating new entry.\n",
      "INFO:oecddatabuilder.recipe_loader:Updated indicator 'A' with URL: https://sdmx.oecd.org/public/rest/data/OECD.SDD.NAD,DSD_NASEC1@DF_QSA,1.1/Q..AUT....P3.......?startPeriod=2023-Q3\n",
      "INFO:oecddatabuilder.recipe_loader:Metadata for indicator 'A' updated with: {'FREQ': 'Q', 'ADJUSTMENT': 'Y', 'REF_AREA': 'AUT', 'SECTOR': 'S13', 'COUNTERPART_SECTOR': 'S1', 'ACCOUNTING_ENTRY': 'D', 'TRANSACTION': 'P3', 'INSTR_ASSET': '_Z', 'EXPENDITURE': '_Z', 'UNIT_MEASURE': 'XDC', 'VALUATION': 'S', 'PRICE_BASE': 'V', 'TRANSFORMATION': 'N', 'TABLE_IDENTIFIER': 'T0801'}\n",
      "INFO:oecddatabuilder.recipe_loader:Indicator 'B' not found in group 'TUTORIAL'. Creating new entry.\n",
      "INFO:oecddatabuilder.recipe_loader:Updated indicator 'B' with URL: https://sdmx.oecd.org/public/rest/data/OECD.SDD.NAD,DSD_NASEC1@DF_QSA,1.1/Q..AUT....D1.......?startPeriod=2023-Q3\n",
      "INFO:oecddatabuilder.recipe_loader:Metadata for indicator 'B' updated with: {'FREQ': 'Q', 'ADJUSTMENT': 'N', 'REF_AREA': 'AUT', 'SECTOR': 'S1M', 'COUNTERPART_SECTOR': 'S1', 'ACCOUNTING_ENTRY': 'D', 'TRANSACTION': 'D1', 'INSTR_ASSET': '_Z', 'EXPENDITURE': '_Z', 'UNIT_MEASURE': 'XDC', 'VALUATION': 'S', 'PRICE_BASE': 'V', 'TRANSFORMATION': 'N', 'TABLE_IDENTIFIER': 'T0801'}\n",
      "INFO:oecddatabuilder.recipe_loader:Indicator 'C' not found in group 'TUTORIAL'. Creating new entry.\n",
      "INFO:oecddatabuilder.recipe_loader:Updated indicator 'C' with URL: https://sdmx.oecd.org/public/rest/data/OECD.SDD.NAD,DSD_NASEC1@DF_QSA,1.1/Q..AUT....P5.......?startPeriod=2023-Q3\n",
      "INFO:oecddatabuilder.recipe_loader:Metadata for indicator 'C' updated with: {'FREQ': 'Q', 'ADJUSTMENT': 'N', 'REF_AREA': 'AUT', 'SECTOR': 'S1', 'COUNTERPART_SECTOR': 'S1', 'ACCOUNTING_ENTRY': 'D', 'TRANSACTION': 'P5', 'INSTR_ASSET': '_Z', 'EXPENDITURE': '_Z', 'UNIT_MEASURE': 'XDC', 'VALUATION': 'S', 'PRICE_BASE': 'V', 'TRANSFORMATION': 'N', 'TABLE_IDENTIFIER': 'T0801'}\n",
      "INFO:oecddatabuilder.recipe_loader:Atomic write successful to /Users/minkeychang/oecddatabuilder/config/recipe.json\n",
      "INFO:oecddatabuilder.recipe_loader:Recipe group 'TUTORIAL' updated successfully in /Users/minkeychang/oecddatabuilder/config/recipe.json.\n",
      "INFO:oecddatabuilder.recipe_loader:Recipe update completed successfully.\n"
     ]
    }
   ],
   "source": [
    "recipe_loader.update_recipe_from_url(\"TUTORIAL\",\n",
    "                            {\"A\": \"https://sdmx.oecd.org/public/rest/data/OECD.SDD.NAD,DSD_NASEC1@DF_QSA,1.1/Q..AUT....P3.......?startPeriod=2023-Q3\",\n",
    "                             \"B\": \"https://sdmx.oecd.org/public/rest/data/OECD.SDD.NAD,DSD_NASEC1@DF_QSA,1.1/Q..AUT....D1.......?startPeriod=2023-Q3\",\n",
    "                             \"C\": \"https://sdmx.oecd.org/public/rest/data/OECD.SDD.NAD,DSD_NASEC1@DF_QSA,1.1/Q..AUT....P5.......?startPeriod=2023-Q3\"\n",
    "                             }\n",
    "                            )"
   ]
  },
  {
   "cell_type": "code",
   "execution_count": 9,
   "id": "d46305db",
   "metadata": {},
   "outputs": [
    {
     "name": "stderr",
     "output_type": "stream",
     "text": [
      "INFO:oecddatabuilder.recipe_loader:User configuration loaded for group 'DEFAULT'.\n"
     ]
    }
   ],
   "source": [
    "default_recipe = recipe_loader.load(\"DEFAULT\")"
   ]
  },
  {
   "cell_type": "code",
   "execution_count": 13,
   "id": "eeb8cc74",
   "metadata": {},
   "outputs": [
    {
     "name": "stderr",
     "output_type": "stream",
     "text": [
      "INFO:oecddatabuilder.databuilder:Combined countries from configuration: ['CAN', 'CHN', 'DEU', 'FRA', 'GBR', 'IND', 'IRL', 'ITA', 'JPN', 'KOR', 'MEX', 'USA']\n"
     ]
    }
   ],
   "source": [
    "API_QNA = OECD_data.OECDAPI_Databuilder(config=default_recipe, start = \"1990-Q1\", end = \"2024-Q1\", freq = \"Q\",\n",
    "                          dbpath=\"../datasets/OECD/\",\n",
    "                          base_url=\"https://sdmx.oecd.org/public/rest/data/OECD.SDD.NAD,DSD_NAMAIN1@DF_QNA,1.1/\")"
   ]
  },
  {
   "cell_type": "code",
   "execution_count": 14,
   "id": "1a83f95b",
   "metadata": {},
   "outputs": [
    {
     "name": "stderr",
     "output_type": "stream",
     "text": [
      "INFO:oecddatabuilder.databuilder:For indicator 'Y', processing time chunks: [('1990-Q1', '2014-Q4'), ('2015-Q1', '2024-Q1')]\n",
      "INFO:oecddatabuilder.databuilder:Fetching data for 'Y' using URL: https://sdmx.oecd.org/public/rest/data/OECD.SDD.NAD,DSD_NAMAIN1@DF_QNA,1.1/Q..KOR+CAN+USA+CHN+GBR+DEU+FRA+JPN+ITA+IND+MEX+IRL.S1..B1GQ....USD_PPP.LR..\n",
      "Downloading Y Data:   0%|          | 0/2 [00:00<?, ?it/s]ERROR:oecddatabuilder.databuilder:Error fetching chunk 1990-Q1 to 2014-Q4 for 'Y': 429 Client Error: Too Many Requests for url: https://sdmx.oecd.org/public/rest/data/OECD.SDD.NAD,DSD_NAMAIN1@DF_QNA,1.1/Q..KOR+CAN+USA+CHN+GBR+DEU+FRA+JPN+ITA+IND+MEX+IRL.S1..B1GQ....USD_PPP.LR..?startPeriod=1990-Q1&endPeriod=2014-Q4&dimensionAtObservation=TIME_PERIOD\n",
      "Downloading Y Data:   0%|          | 0/2 [00:34<?, ?it/s]\n"
     ]
    },
    {
     "ename": "KeyboardInterrupt",
     "evalue": "",
     "output_type": "error",
     "traceback": [
      "\u001b[31m---------------------------------------------------------------------------\u001b[39m",
      "\u001b[31mKeyboardInterrupt\u001b[39m                         Traceback (most recent call last)",
      "\u001b[36mCell\u001b[39m\u001b[36m \u001b[39m\u001b[32mIn[14]\u001b[39m\u001b[32m, line 1\u001b[39m\n\u001b[32m----> \u001b[39m\u001b[32m1\u001b[39m \u001b[43mAPI_QNA\u001b[49m\u001b[43m.\u001b[49m\u001b[43mfetch_data\u001b[49m\u001b[43m(\u001b[49m\u001b[43mchunk_size\u001b[49m\u001b[43m \u001b[49m\u001b[43m=\u001b[49m\u001b[43m \u001b[49m\u001b[32;43m100\u001b[39;49m\u001b[43m)\u001b[49m\n",
      "\u001b[36mFile \u001b[39m\u001b[32m~/oecddatabuilder/src/oecddatabuilder/databuilder.py:181\u001b[39m, in \u001b[36mOECDAPI_Databuilder.fetch_data\u001b[39m\u001b[34m(self, chunk_size)\u001b[39m\n\u001b[32m    179\u001b[39m     \u001b[38;5;28;01mexcept\u001b[39;00m \u001b[38;5;167;01mException\u001b[39;00m \u001b[38;5;28;01mas\u001b[39;00m e:\n\u001b[32m    180\u001b[39m         logger.error(\u001b[33mf\u001b[39m\u001b[33m\"\u001b[39m\u001b[33mError fetching chunk \u001b[39m\u001b[38;5;132;01m{\u001b[39;00mchunk_start\u001b[38;5;132;01m}\u001b[39;00m\u001b[33m to \u001b[39m\u001b[38;5;132;01m{\u001b[39;00mchunk_end\u001b[38;5;132;01m}\u001b[39;00m\u001b[33m for \u001b[39m\u001b[33m'\u001b[39m\u001b[38;5;132;01m{\u001b[39;00mindicator\u001b[38;5;132;01m}\u001b[39;00m\u001b[33m'\u001b[39m\u001b[33m: \u001b[39m\u001b[38;5;132;01m{\u001b[39;00me\u001b[38;5;132;01m}\u001b[39;00m\u001b[33m\"\u001b[39m)\n\u001b[32m--> \u001b[39m\u001b[32m181\u001b[39m     \u001b[43mtime\u001b[49m\u001b[43m.\u001b[49m\u001b[43msleep\u001b[49m\u001b[43m(\u001b[49m\u001b[38;5;28;43mself\u001b[39;49m\u001b[43m.\u001b[49m\u001b[43mrequest_interval\u001b[49m\u001b[43m)\u001b[49m\n\u001b[32m    183\u001b[39m \u001b[38;5;66;03m# Concatenate the chunks if data was fetched.\u001b[39;00m\n\u001b[32m    184\u001b[39m \u001b[38;5;28;01mif\u001b[39;00m all_chunks:\n",
      "\u001b[31mKeyboardInterrupt\u001b[39m: "
     ]
    }
   ],
   "source": [
    "API_QNA.fetch_data(chunk_size = 100)"
   ]
  },
  {
   "cell_type": "code",
   "execution_count": null,
   "id": "d8ea36e6",
   "metadata": {},
   "outputs": [],
   "source": [
    "df_QNA = API_QNA.create_dataframe()"
   ]
  },
  {
   "cell_type": "code",
   "execution_count": null,
   "id": "0fee747a",
   "metadata": {},
   "outputs": [],
   "source": [
    "API_QSA = OECD_data.OECDAPI_Databuilder(recipe=QSA, start = \"2024-Q1\", end = \"2024-Q4\", freq = \"Q\",\n",
    "                          dbpath=\"../datasets/OECD/\",\n",
    "                          base_url=\"https://sdmx.oecd.org/public/rest/data/OECD.SDD.NAD,DSD_NASEC1@DF_QSA,1.1/\")"
   ]
  },
  {
   "cell_type": "code",
   "execution_count": null,
   "id": "a831d2e4",
   "metadata": {},
   "outputs": [],
   "source": [
    "df_QSA = API_QSA.create_dataframe"
   ]
  },
  {
   "cell_type": "code",
   "execution_count": null,
   "id": "82012677",
   "metadata": {},
   "outputs": [],
   "source": []
  },
  {
   "cell_type": "code",
   "execution_count": null,
   "id": "2075fb70",
   "metadata": {},
   "outputs": [],
   "source": []
  },
  {
   "cell_type": "code",
   "execution_count": null,
   "id": "07876747",
   "metadata": {},
   "outputs": [],
   "source": []
  }
 ],
 "metadata": {
  "kernelspec": {
   "display_name": "oecddatabuilder-JsEVO9Jv-py3.11",
   "language": "python",
   "name": "python3"
  },
  "language_info": {
   "codemirror_mode": {
    "name": "ipython",
    "version": 3
   },
   "file_extension": ".py",
   "mimetype": "text/x-python",
   "name": "python",
   "nbconvert_exporter": "python",
   "pygments_lexer": "ipython3",
   "version": "3.11.7"
  }
 },
 "nbformat": 4,
 "nbformat_minor": 5
}
