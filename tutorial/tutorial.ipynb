{
 "cells": [
  {
   "cell_type": "markdown",
   "id": "7f1aced3",
   "metadata": {},
   "source": [
    "# From OECD API to your own academic dataset tutorial\n",
    "\n",
    "After following this tutorial, you are expected to\n",
    "\n",
    "1. Test api connections\n",
    "2. Create and update your own recipe for your data\n",
    "3. Run the databuilder and store the data for analysis"
   ]
  },
  {
   "cell_type": "markdown",
   "id": "b037db45",
   "metadata": {},
   "source": [
    "## Importing the module and checking the API connection.\n",
    "\n",
    "Remember, OECD is imposing 20 queries per minute and 20 downloads per hour limit."
   ]
  },
  {
   "cell_type": "code",
   "execution_count": 1,
   "id": "1c71b5f1",
   "metadata": {},
   "outputs": [
    {
     "name": "stderr",
     "output_type": "stream",
     "text": [
      "INFO:oecddatabuilder.utils:API connection successful.\n"
     ]
    }
   ],
   "source": [
    "import oecddatabuilder as OECD_data\n",
    "\n",
    "OECD_data.utils.test_api_connection()"
   ]
  },
  {
   "cell_type": "markdown",
   "id": "aca47576",
   "metadata": {},
   "source": [
    "## RECIPE\n",
    "\n",
    "- First, you need to prepare the recipe for your data. Recipe is a nested dictionary to store necessary information about your query.\n",
    "\n",
    "- RecipeLoader is simple, it has two functions: \"load\" and \"update\""
   ]
  },
  {
   "cell_type": "code",
   "execution_count": 5,
   "id": "1154e85c",
   "metadata": {},
   "outputs": [
    {
     "name": "stderr",
     "output_type": "stream",
     "text": [
      "INFO:oecddatabuilder.recipe_loader:Atomic write successful to /Users/minkeychang/oecddatabuilder/config/recipe.json\n",
      "INFO:oecddatabuilder.recipe_loader:User configuration updated successfully in /Users/minkeychang/oecddatabuilder/config/recipe.json.\n"
     ]
    }
   ],
   "source": [
    "recipe_loader = OECD_data.RecipeLoader()"
   ]
  },
  {
   "cell_type": "markdown",
   "id": "0d333a8e",
   "metadata": {},
   "source": [
    "##### From the following line, when you load recipe loader, it returns nested dictionary containing inforamtion about your dataset.\n",
    "\n",
    "- It also creates recipe.json file under the /conf/ directory. It is okay and recommanded to modify, add, delete the recipes from recipe.json for your own preprint.\n",
    "- However, it is NOT recommanded to modify the default recipe.\n",
    "- Last but not least, be aware of recipe's nested dictionary format. I know it's confusing but that was the best I could do."
   ]
  },
  {
   "cell_type": "code",
   "execution_count": 3,
   "id": "5c1f59c4",
   "metadata": {},
   "outputs": [
    {
     "name": "stderr",
     "output_type": "stream",
     "text": [
      "INFO:oecddatabuilder.recipe_loader:User configuration loaded for group 'DEFAULT'.\n"
     ]
    },
    {
     "data": {
      "text/plain": [
       "{'Y': {'FREQ': 'Q',\n",
       "  'ADJUSTMENT': '',\n",
       "  'REF_AREA': 'KOR+CAN+USA+CHN+GBR+DEU+FRA+JPN+ITA+IND+MEX+IRL',\n",
       "  'SECTOR': 'S1',\n",
       "  'COUNTERPART_SECTOR': '',\n",
       "  'TRANSACTION': 'B1GQ',\n",
       "  'INSTR_ASSET': '',\n",
       "  'ACTIVITY': '',\n",
       "  'EXPENDITURE': '',\n",
       "  'UNIT_MEASURE': 'USD_PPP',\n",
       "  'PRICE_BASE': 'LR',\n",
       "  'TRANSFORMATION': '',\n",
       "  'TABLE_IDENTIFIER': ''},\n",
       " 'C': {'FREQ': 'Q',\n",
       "  'ADJUSTMENT': '',\n",
       "  'REF_AREA': 'KOR+CAN+USA+CHN+GBR+DEU+FRA+JPN+ITA+IND+MEX+IRL',\n",
       "  'SECTOR': 'S1M',\n",
       "  'COUNTERPART_SECTOR': '',\n",
       "  'TRANSACTION': 'P3',\n",
       "  'INSTR_ASSET': '',\n",
       "  'ACTIVITY': '',\n",
       "  'EXPENDITURE': '',\n",
       "  'UNIT_MEASURE': 'USD_PPP',\n",
       "  'PRICE_BASE': 'LR',\n",
       "  'TRANSFORMATION': '',\n",
       "  'TABLE_IDENTIFIER': ''},\n",
       " 'G': {'FREQ': 'Q',\n",
       "  'ADJUSTMENT': '',\n",
       "  'REF_AREA': 'KOR+CAN+USA+CHN+GBR+DEU+FRA+JPN+ITA+IND+MEX+IRL',\n",
       "  'SECTOR': 'S13',\n",
       "  'COUNTERPART_SECTOR': '',\n",
       "  'TRANSACTION': 'P3',\n",
       "  'INSTR_ASSET': '',\n",
       "  'ACTIVITY': '',\n",
       "  'EXPENDITURE': '',\n",
       "  'UNIT_MEASURE': 'USD_PPP',\n",
       "  'PRICE_BASE': 'LR',\n",
       "  'TRANSFORMATION': '',\n",
       "  'TABLE_IDENTIFIER': ''},\n",
       " 'I': {'FREQ': 'Q',\n",
       "  'ADJUSTMENT': '',\n",
       "  'REF_AREA': 'KOR+CAN+USA+CHN+GBR+DEU+FRA+JPN+ITA+IND+MEX+IRL',\n",
       "  'SECTOR': 'S1',\n",
       "  'COUNTERPART_SECTOR': '',\n",
       "  'TRANSACTION': 'P51G',\n",
       "  'INSTR_ASSET': '',\n",
       "  'ACTIVITY': '',\n",
       "  'EXPENDITURE': '',\n",
       "  'UNIT_MEASURE': 'USD_PPP',\n",
       "  'PRICE_BASE': 'LR',\n",
       "  'TRANSFORMATION': '',\n",
       "  'TABLE_IDENTIFIER': ''},\n",
       " 'EX': {'FREQ': 'Q',\n",
       "  'ADJUSTMENT': '',\n",
       "  'REF_AREA': 'KOR+CAN+USA+CHN+GBR+DEU+FRA+JPN+ITA+IND+MEX+IRL',\n",
       "  'SECTOR': 'S1',\n",
       "  'COUNTERPART_SECTOR': '',\n",
       "  'TRANSACTION': 'P6',\n",
       "  'INSTR_ASSET': '',\n",
       "  'ACTIVITY': '',\n",
       "  'EXPENDITURE': '',\n",
       "  'UNIT_MEASURE': 'USD_PPP',\n",
       "  'PRICE_BASE': 'LR',\n",
       "  'TRANSFORMATION': '',\n",
       "  'TABLE_IDENTIFIER': ''},\n",
       " 'IM': {'FREQ': 'Q',\n",
       "  'ADJUSTMENT': '',\n",
       "  'REF_AREA': 'KOR+CAN+USA+CHN+GBR+DEU+FRA+JPN+ITA+IND+MEX+IRL',\n",
       "  'SECTOR': 'S1',\n",
       "  'COUNTERPART_SECTOR': '',\n",
       "  'TRANSACTION': 'P7',\n",
       "  'INSTR_ASSET': '',\n",
       "  'ACTIVITY': '',\n",
       "  'EXPENDITURE': '',\n",
       "  'UNIT_MEASURE': 'USD_PPP',\n",
       "  'PRICE_BASE': 'LR',\n",
       "  'TRANSFORMATION': '',\n",
       "  'TABLE_IDENTIFIER': ''}}"
      ]
     },
     "execution_count": 3,
     "metadata": {},
     "output_type": "execute_result"
    }
   ],
   "source": [
    "my_config = recipe_loader.load(recipe_name=\"DEFAULT\")\n",
    "\n",
    "my_config"
   ]
  },
  {
   "cell_type": "markdown",
   "id": "8e4b5719",
   "metadata": {},
   "source": [
    "##### You can also update the recipe by using the following function.\n",
    "\n",
    "If you access OECD Data Explorer [webpage](https://data-explorer.oecd.org/) and query(search) for your needed data, it will have **developer api** section on the right."
   ]
  },
  {
   "cell_type": "markdown",
   "id": "318b2eae",
   "metadata": {},
   "source": [
    "![OECD_API_DEVELOPER](../docs/image/API_demo.png)"
   ]
  },
  {
   "cell_type": "markdown",
   "id": "d8ad8950",
   "metadata": {},
   "source": [
    "### WARNING: OECD API LIMITS\n",
    "\n",
    "##### Running the function ```update_recipe_from_url``` would create transactions as much as number of columns in the recipe.\n",
    "- This means if there are more than 20 columns, you cannot run it at once.\n",
    "- It also means that running it everytime would cost you the accessibility.\n",
    "- I strongly recommand you updating the recipe once in the beginning and later modfiy manually through ```recipe.json``` file.\n"
   ]
  },
  {
   "cell_type": "markdown",
   "id": "8c6926c9",
   "metadata": {},
   "source": [
    "##### Here, you can paste the copied link in the following format.\n",
    "\n",
    "- In nested dictionary format, you can designate the recipe name, and dictionaries of column name as a key and url link you copied as a value.\n",
    "\n",
    "- Each link **MUST** contain ONLY ONE transaction because multiple transactions would have different combinations of filters and will throw an error.\n",
    "\n",
    "- For instance, if you query multiple transactions in one link in the format of P3+D1+P5, there is a great chance that P3, D1, P5 would require different set of filters. This is why we require user to provide only one time series data for a variable.\n",
    "\n",
    "- FYI, I suggest you referring to [OECD API Documentation](../docs/OECD_API_documentation.pdf) for more information and understanding of API structure."
   ]
  },
  {
   "cell_type": "code",
   "execution_count": 4,
   "id": "7e395a31",
   "metadata": {},
   "outputs": [
    {
     "name": "stderr",
     "output_type": "stream",
     "text": [
      "INFO:oecddatabuilder.recipe_loader:Indicator 'A' not found in group 'TUTORIAL'. Creating new entry.\n",
      "INFO:oecddatabuilder.recipe_loader:Updated indicator 'A' with URL: https://sdmx.oecd.org/public/rest/data/OECD.SDD.NAD,DSD_NASEC1@DF_QSA,1.1/Q..AUT....P3.......?startPeriod=2023-Q3\n",
      "INFO:oecddatabuilder.recipe_loader:Metadata for indicator 'A' updated with: {'FREQ': 'Q', 'ADJUSTMENT': 'Y', 'REF_AREA': 'AUT', 'SECTOR': 'S13', 'COUNTERPART_SECTOR': 'S1', 'ACCOUNTING_ENTRY': 'D', 'TRANSACTION': 'P3', 'INSTR_ASSET': '_Z', 'EXPENDITURE': '_Z', 'UNIT_MEASURE': 'XDC', 'VALUATION': 'S', 'PRICE_BASE': 'V', 'TRANSFORMATION': 'N', 'TABLE_IDENTIFIER': 'T0801'}\n",
      "INFO:oecddatabuilder.recipe_loader:Indicator 'B' not found in group 'TUTORIAL'. Creating new entry.\n",
      "INFO:oecddatabuilder.recipe_loader:Updated indicator 'B' with URL: https://sdmx.oecd.org/public/rest/data/OECD.SDD.NAD,DSD_NASEC1@DF_QSA,1.1/Q..AUT....D1.......?startPeriod=2023-Q3\n",
      "INFO:oecddatabuilder.recipe_loader:Metadata for indicator 'B' updated with: {'FREQ': 'Q', 'ADJUSTMENT': 'N', 'REF_AREA': 'AUT', 'SECTOR': 'S1M', 'COUNTERPART_SECTOR': 'S1', 'ACCOUNTING_ENTRY': 'D', 'TRANSACTION': 'D1', 'INSTR_ASSET': '_Z', 'EXPENDITURE': '_Z', 'UNIT_MEASURE': 'XDC', 'VALUATION': 'S', 'PRICE_BASE': 'V', 'TRANSFORMATION': 'N', 'TABLE_IDENTIFIER': 'T0801'}\n",
      "INFO:oecddatabuilder.recipe_loader:Indicator 'C' not found in group 'TUTORIAL'. Creating new entry.\n",
      "INFO:oecddatabuilder.recipe_loader:Updated indicator 'C' with URL: https://sdmx.oecd.org/public/rest/data/OECD.SDD.NAD,DSD_NASEC1@DF_QSA,1.1/Q..AUT....P5.......?startPeriod=2023-Q3\n",
      "INFO:oecddatabuilder.recipe_loader:Metadata for indicator 'C' updated with: {'FREQ': 'Q', 'ADJUSTMENT': 'N', 'REF_AREA': 'AUT', 'SECTOR': 'S1', 'COUNTERPART_SECTOR': 'S1', 'ACCOUNTING_ENTRY': 'D', 'TRANSACTION': 'P5', 'INSTR_ASSET': '_Z', 'EXPENDITURE': '_Z', 'UNIT_MEASURE': 'XDC', 'VALUATION': 'S', 'PRICE_BASE': 'V', 'TRANSFORMATION': 'N', 'TABLE_IDENTIFIER': 'T0801'}\n",
      "INFO:oecddatabuilder.recipe_loader:Atomic write successful to /Users/minkeychang/oecddatabuilder/config/recipe.json\n",
      "INFO:oecddatabuilder.recipe_loader:Recipe group 'TUTORIAL' updated successfully in /Users/minkeychang/oecddatabuilder/config/recipe.json.\n",
      "INFO:oecddatabuilder.recipe_loader:Recipe update completed successfully.\n"
     ]
    }
   ],
   "source": [
    "recipe_loader.update_recipe_from_url(\"TUTORIAL\",\n",
    "                            {\"A\": \"https://sdmx.oecd.org/public/rest/data/OECD.SDD.NAD,DSD_NASEC1@DF_QSA,1.1/Q..AUT....P3.......?startPeriod=2023-Q3\",\n",
    "                             \"B\": \"https://sdmx.oecd.org/public/rest/data/OECD.SDD.NAD,DSD_NASEC1@DF_QSA,1.1/Q..AUT....D1.......?startPeriod=2023-Q3\",\n",
    "                             \"C\": \"https://sdmx.oecd.org/public/rest/data/OECD.SDD.NAD,DSD_NASEC1@DF_QSA,1.1/Q..AUT....P5.......?startPeriod=2023-Q3\"\n",
    "                             }\n",
    "                            )"
   ]
  },
  {
   "cell_type": "markdown",
   "id": "cd40a315",
   "metadata": {},
   "source": [
    "## Build Data\n",
    "\n",
    "##### Now you are almost there! you can build the data based on your recipe.\n",
    "\n",
    "- Current DEFAULT recipe contains QNA(Quarterly National Account) Dataset from OECD to construct the data for famous identity in economics\n",
    "$$\n",
    "Y = C + I + G + EX - IM\n",
    "$$\n",
    "\n",
    "- You can first load the recipe by calling load function of recipe loader class with your preferred recipe name."
   ]
  },
  {
   "cell_type": "code",
   "execution_count": 10,
   "id": "d46305db",
   "metadata": {},
   "outputs": [
    {
     "name": "stderr",
     "output_type": "stream",
     "text": [
      "INFO:oecddatabuilder.recipe_loader:User configuration loaded for group 'DEFAULT'.\n"
     ]
    },
    {
     "name": "stdout",
     "output_type": "stream",
     "text": [
      "{'Y': {'FREQ': 'Q', 'ADJUSTMENT': '', 'REF_AREA': 'KOR+CAN+USA+CHN+GBR+DEU+FRA+JPN+ITA+IND+MEX+IRL', 'SECTOR': 'S1', 'COUNTERPART_SECTOR': '', 'TRANSACTION': 'B1GQ', 'INSTR_ASSET': '', 'ACTIVITY': '', 'EXPENDITURE': '', 'UNIT_MEASURE': 'USD_PPP', 'PRICE_BASE': 'LR', 'TRANSFORMATION': '', 'TABLE_IDENTIFIER': ''}, 'C': {'FREQ': 'Q', 'ADJUSTMENT': '', 'REF_AREA': 'KOR+CAN+USA+CHN+GBR+DEU+FRA+JPN+ITA+IND+MEX+IRL', 'SECTOR': 'S1M', 'COUNTERPART_SECTOR': '', 'TRANSACTION': 'P3', 'INSTR_ASSET': '', 'ACTIVITY': '', 'EXPENDITURE': '', 'UNIT_MEASURE': 'USD_PPP', 'PRICE_BASE': 'LR', 'TRANSFORMATION': '', 'TABLE_IDENTIFIER': ''}, 'G': {'FREQ': 'Q', 'ADJUSTMENT': '', 'REF_AREA': 'KOR+CAN+USA+CHN+GBR+DEU+FRA+JPN+ITA+IND+MEX+IRL', 'SECTOR': 'S13', 'COUNTERPART_SECTOR': '', 'TRANSACTION': 'P3', 'INSTR_ASSET': '', 'ACTIVITY': '', 'EXPENDITURE': '', 'UNIT_MEASURE': 'USD_PPP', 'PRICE_BASE': 'LR', 'TRANSFORMATION': '', 'TABLE_IDENTIFIER': ''}, 'I': {'FREQ': 'Q', 'ADJUSTMENT': '', 'REF_AREA': 'KOR+CAN+USA+CHN+GBR+DEU+FRA+JPN+ITA+IND+MEX+IRL', 'SECTOR': 'S1', 'COUNTERPART_SECTOR': '', 'TRANSACTION': 'P51G', 'INSTR_ASSET': '', 'ACTIVITY': '', 'EXPENDITURE': '', 'UNIT_MEASURE': 'USD_PPP', 'PRICE_BASE': 'LR', 'TRANSFORMATION': '', 'TABLE_IDENTIFIER': ''}, 'EX': {'FREQ': 'Q', 'ADJUSTMENT': '', 'REF_AREA': 'KOR+CAN+USA+CHN+GBR+DEU+FRA+JPN+ITA+IND+MEX+IRL', 'SECTOR': 'S1', 'COUNTERPART_SECTOR': '', 'TRANSACTION': 'P6', 'INSTR_ASSET': '', 'ACTIVITY': '', 'EXPENDITURE': '', 'UNIT_MEASURE': 'USD_PPP', 'PRICE_BASE': 'LR', 'TRANSFORMATION': '', 'TABLE_IDENTIFIER': ''}, 'IM': {'FREQ': 'Q', 'ADJUSTMENT': '', 'REF_AREA': 'KOR+CAN+USA+CHN+GBR+DEU+FRA+JPN+ITA+IND+MEX+IRL', 'SECTOR': 'S1', 'COUNTERPART_SECTOR': '', 'TRANSACTION': 'P7', 'INSTR_ASSET': '', 'ACTIVITY': '', 'EXPENDITURE': '', 'UNIT_MEASURE': 'USD_PPP', 'PRICE_BASE': 'LR', 'TRANSFORMATION': '', 'TABLE_IDENTIFIER': ''}}\n"
     ]
    }
   ],
   "source": [
    "default_recipe = recipe_loader.load(\"DEFAULT\")\n",
    "print(default_recipe)"
   ]
  },
  {
   "cell_type": "markdown",
   "id": "98141890",
   "metadata": {},
   "source": [
    "##### Here, you can find that loaded recipe contains multiple countries, "
   ]
  },
  {
   "cell_type": "code",
   "execution_count": null,
   "id": "6a3551ee",
   "metadata": {},
   "outputs": [],
   "source": []
  },
  {
   "cell_type": "code",
   "execution_count": null,
   "id": "82012677",
   "metadata": {},
   "outputs": [],
   "source": []
  },
  {
   "cell_type": "code",
   "execution_count": null,
   "id": "2075fb70",
   "metadata": {},
   "outputs": [],
   "source": []
  },
  {
   "cell_type": "code",
   "execution_count": null,
   "id": "07876747",
   "metadata": {},
   "outputs": [],
   "source": []
  }
 ],
 "metadata": {
  "kernelspec": {
   "display_name": "oecddatabuilder-JsEVO9Jv-py3.11",
   "language": "python",
   "name": "python3"
  },
  "language_info": {
   "codemirror_mode": {
    "name": "ipython",
    "version": 3
   },
   "file_extension": ".py",
   "mimetype": "text/x-python",
   "name": "python",
   "nbconvert_exporter": "python",
   "pygments_lexer": "ipython3",
   "version": "3.11.7"
  }
 },
 "nbformat": 4,
 "nbformat_minor": 5
}
