{
 "cells": [
  {
   "cell_type": "markdown",
   "id": "7f1aced3",
   "metadata": {},
   "source": [
    "# Tutorial for creating your own dataset from OECD API\n",
    "\n",
    "After following this tutorial, you are expected to\n",
    "\n",
    "1. Test api connections\n",
    "2. Create and update your own recipe for your data\n",
    "3. Run the databuilder and store the data for analysis"
   ]
  },
  {
   "cell_type": "markdown",
   "id": "b037db45",
   "metadata": {},
   "source": [
    "## Importing the module and checking the API connection.\n",
    "\n",
    "Remember, OECD is imposing 20 queries per minute and 20 downloads per hour limit."
   ]
  },
  {
   "cell_type": "code",
   "execution_count": null,
   "id": "c369e311",
   "metadata": {},
   "outputs": [],
   "source": [
    "#!pip install oecddatabuilder"
   ]
  },
  {
   "cell_type": "code",
   "execution_count": 1,
   "id": "1c71b5f1",
   "metadata": {},
   "outputs": [
    {
     "name": "stderr",
     "output_type": "stream",
     "text": [
      "INFO:oecddatabuilder.utils:API connection successful.\n"
     ]
    }
   ],
   "source": [
    "import oecddatabuilder as OECD_data\n",
    "\n",
    "OECD_data.utils.test_api_connection()"
   ]
  },
  {
   "cell_type": "markdown",
   "id": "aca47576",
   "metadata": {},
   "source": [
    "## RECIPE\n",
    "\n",
    "- First, you need to prepare the recipe for your data. Recipe is a nested dictionary to store necessary information about your query.\n",
    "\n",
    "- RecipeLoader is simple, it has two functions: \"load\" and \"update\""
   ]
  },
  {
   "cell_type": "code",
   "execution_count": 2,
   "id": "1154e85c",
   "metadata": {},
   "outputs": [],
   "source": [
    "recipe_loader = OECD_data.RecipeLoader()"
   ]
  },
  {
   "cell_type": "code",
   "execution_count": 3,
   "id": "0f3fca58",
   "metadata": {},
   "outputs": [
    {
     "name": "stdout",
     "output_type": "stream",
     "text": [
      "{'DEFAULT': {'C': {'ACTIVITY': '',\n",
      "                   'ADJUSTMENT': '',\n",
      "                   'COUNTERPART_SECTOR': '',\n",
      "                   'EXPENDITURE': '',\n",
      "                   'FREQ': 'Q',\n",
      "                   'INSTR_ASSET': '',\n",
      "                   'PRICE_BASE': 'LR',\n",
      "                   'REF_AREA': 'KOR+CAN+USA+CHN+GBR+DEU+FRA+JPN+ITA+IND+MEX+IRL',\n",
      "                   'SECTOR': 'S1M',\n",
      "                   'TABLE_IDENTIFIER': '',\n",
      "                   'TRANSACTION': 'P3',\n",
      "                   'TRANSFORMATION': '',\n",
      "                   'UNIT_MEASURE': 'USD_PPP'},\n",
      "             'EX': {'ACTIVITY': '',\n",
      "                    'ADJUSTMENT': '',\n",
      "                    'COUNTERPART_SECTOR': '',\n",
      "                    'EXPENDITURE': '',\n",
      "                    'FREQ': 'Q',\n",
      "                    'INSTR_ASSET': '',\n",
      "                    'PRICE_BASE': 'LR',\n",
      "                    'REF_AREA': 'KOR+CAN+USA+CHN+GBR+DEU+FRA+JPN+ITA+IND+MEX+IRL',\n",
      "                    'SECTOR': 'S1',\n",
      "                    'TABLE_IDENTIFIER': '',\n",
      "                    'TRANSACTION': 'P6',\n",
      "                    'TRANSFORMATION': '',\n",
      "                    'UNIT_MEASURE': 'USD_PPP'},\n",
      "             'G': {'ACTIVITY': '',\n",
      "                   'ADJUSTMENT': '',\n",
      "                   'COUNTERPART_SECTOR': '',\n",
      "                   'EXPENDITURE': '',\n",
      "                   'FREQ': 'Q',\n",
      "                   'INSTR_ASSET': '',\n",
      "                   'PRICE_BASE': 'LR',\n",
      "                   'REF_AREA': 'KOR+CAN+USA+CHN+GBR+DEU+FRA+JPN+ITA+IND+MEX+IRL',\n",
      "                   'SECTOR': 'S13',\n",
      "                   'TABLE_IDENTIFIER': '',\n",
      "                   'TRANSACTION': 'P3',\n",
      "                   'TRANSFORMATION': '',\n",
      "                   'UNIT_MEASURE': 'USD_PPP'},\n",
      "             'I': {'ACTIVITY': '',\n",
      "                   'ADJUSTMENT': '',\n",
      "                   'COUNTERPART_SECTOR': '',\n",
      "                   'EXPENDITURE': '',\n",
      "                   'FREQ': 'Q',\n",
      "                   'INSTR_ASSET': '',\n",
      "                   'PRICE_BASE': 'LR',\n",
      "                   'REF_AREA': 'KOR+CAN+USA+CHN+GBR+DEU+FRA+JPN+ITA+IND+MEX+IRL',\n",
      "                   'SECTOR': 'S1',\n",
      "                   'TABLE_IDENTIFIER': '',\n",
      "                   'TRANSACTION': 'P51G',\n",
      "                   'TRANSFORMATION': '',\n",
      "                   'UNIT_MEASURE': 'USD_PPP'},\n",
      "             'IM': {'ACTIVITY': '',\n",
      "                    'ADJUSTMENT': '',\n",
      "                    'COUNTERPART_SECTOR': '',\n",
      "                    'EXPENDITURE': '',\n",
      "                    'FREQ': 'Q',\n",
      "                    'INSTR_ASSET': '',\n",
      "                    'PRICE_BASE': 'LR',\n",
      "                    'REF_AREA': 'KOR+CAN+USA+CHN+GBR+DEU+FRA+JPN+ITA+IND+MEX+IRL',\n",
      "                    'SECTOR': 'S1',\n",
      "                    'TABLE_IDENTIFIER': '',\n",
      "                    'TRANSACTION': 'P7',\n",
      "                    'TRANSFORMATION': '',\n",
      "                    'UNIT_MEASURE': 'USD_PPP'},\n",
      "             'Y': {'ACTIVITY': '',\n",
      "                   'ADJUSTMENT': '',\n",
      "                   'COUNTERPART_SECTOR': '',\n",
      "                   'EXPENDITURE': '',\n",
      "                   'FREQ': 'Q',\n",
      "                   'INSTR_ASSET': '',\n",
      "                   'PRICE_BASE': 'LR',\n",
      "                   'REF_AREA': 'KOR+CAN+USA+CHN+GBR+DEU+FRA+JPN+ITA+IND+MEX+IRL',\n",
      "                   'SECTOR': 'S1',\n",
      "                   'TABLE_IDENTIFIER': '',\n",
      "                   'TRANSACTION': 'B1GQ',\n",
      "                   'TRANSFORMATION': '',\n",
      "                   'UNIT_MEASURE': 'USD_PPP'}},\n",
      " 'TUTORIAL': {'A': {'ACCOUNTING_ENTRY': 'D',\n",
      "                    'ADJUSTMENT': 'Y',\n",
      "                    'COUNTERPART_SECTOR': 'S1',\n",
      "                    'EXPENDITURE': '_Z',\n",
      "                    'FREQ': 'Q',\n",
      "                    'INSTR_ASSET': '_Z',\n",
      "                    'PRICE_BASE': 'V',\n",
      "                    'REF_AREA': 'AUT',\n",
      "                    'SECTOR': 'S13',\n",
      "                    'TABLE_IDENTIFIER': 'T0801',\n",
      "                    'TRANSACTION': 'P3',\n",
      "                    'TRANSFORMATION': 'N',\n",
      "                    'UNIT_MEASURE': 'XDC',\n",
      "                    'VALUATION': 'S'},\n",
      "              'B': {'ACCOUNTING_ENTRY': 'D',\n",
      "                    'ADJUSTMENT': 'N',\n",
      "                    'COUNTERPART_SECTOR': 'S1',\n",
      "                    'EXPENDITURE': '_Z',\n",
      "                    'FREQ': 'Q',\n",
      "                    'INSTR_ASSET': '_Z',\n",
      "                    'PRICE_BASE': 'V',\n",
      "                    'REF_AREA': 'AUT',\n",
      "                    'SECTOR': 'S1M',\n",
      "                    'TABLE_IDENTIFIER': 'T0801',\n",
      "                    'TRANSACTION': 'D1',\n",
      "                    'TRANSFORMATION': 'N',\n",
      "                    'UNIT_MEASURE': 'XDC',\n",
      "                    'VALUATION': 'S'},\n",
      "              'C': {'ACCOUNTING_ENTRY': 'D',\n",
      "                    'ADJUSTMENT': 'N',\n",
      "                    'COUNTERPART_SECTOR': 'S1',\n",
      "                    'EXPENDITURE': '_Z',\n",
      "                    'FREQ': 'Q',\n",
      "                    'INSTR_ASSET': '_Z',\n",
      "                    'PRICE_BASE': 'V',\n",
      "                    'REF_AREA': 'AUT',\n",
      "                    'SECTOR': 'S1',\n",
      "                    'TABLE_IDENTIFIER': 'T0801',\n",
      "                    'TRANSACTION': 'P5',\n",
      "                    'TRANSFORMATION': 'N',\n",
      "                    'UNIT_MEASURE': 'XDC',\n",
      "                    'VALUATION': 'S'}}}\n"
     ]
    }
   ],
   "source": [
    "recipe_loader.show() # Only default recipe"
   ]
  },
  {
   "cell_type": "markdown",
   "id": "0d333a8e",
   "metadata": {},
   "source": [
    "##### From the following line, when you load recipe loader, it returns nested dictionary containing inforamtion about your dataset.\n",
    "\n",
    "- It also creates recipe.json file under the /conf/ directory. It is okay and recommanded to modify, add, delete the recipes from recipe.json for your own preprint.\n",
    "- However, it is NOT recommanded to modify the default recipe.\n",
    "- Last but not least, be aware of recipe's nested dictionary format. I know it's confusing but that was the best I could do."
   ]
  },
  {
   "cell_type": "code",
   "execution_count": 4,
   "id": "5c1f59c4",
   "metadata": {},
   "outputs": [
    {
     "name": "stderr",
     "output_type": "stream",
     "text": [
      "INFO:oecddatabuilder.recipe_loader:User configuration merged for group 'DEFAULT'.\n"
     ]
    },
    {
     "data": {
      "text/plain": [
       "{'Y': {'FREQ': 'Q',\n",
       "  'ADJUSTMENT': '',\n",
       "  'REF_AREA': 'KOR+CAN+USA+CHN+GBR+DEU+FRA+JPN+ITA+IND+MEX+IRL',\n",
       "  'SECTOR': 'S1',\n",
       "  'COUNTERPART_SECTOR': '',\n",
       "  'TRANSACTION': 'B1GQ',\n",
       "  'INSTR_ASSET': '',\n",
       "  'ACTIVITY': '',\n",
       "  'EXPENDITURE': '',\n",
       "  'UNIT_MEASURE': 'USD_PPP',\n",
       "  'PRICE_BASE': 'LR',\n",
       "  'TRANSFORMATION': '',\n",
       "  'TABLE_IDENTIFIER': ''},\n",
       " 'C': {'FREQ': 'Q',\n",
       "  'ADJUSTMENT': '',\n",
       "  'REF_AREA': 'KOR+CAN+USA+CHN+GBR+DEU+FRA+JPN+ITA+IND+MEX+IRL',\n",
       "  'SECTOR': 'S1M',\n",
       "  'COUNTERPART_SECTOR': '',\n",
       "  'TRANSACTION': 'P3',\n",
       "  'INSTR_ASSET': '',\n",
       "  'ACTIVITY': '',\n",
       "  'EXPENDITURE': '',\n",
       "  'UNIT_MEASURE': 'USD_PPP',\n",
       "  'PRICE_BASE': 'LR',\n",
       "  'TRANSFORMATION': '',\n",
       "  'TABLE_IDENTIFIER': ''},\n",
       " 'G': {'FREQ': 'Q',\n",
       "  'ADJUSTMENT': '',\n",
       "  'REF_AREA': 'KOR+CAN+USA+CHN+GBR+DEU+FRA+JPN+ITA+IND+MEX+IRL',\n",
       "  'SECTOR': 'S13',\n",
       "  'COUNTERPART_SECTOR': '',\n",
       "  'TRANSACTION': 'P3',\n",
       "  'INSTR_ASSET': '',\n",
       "  'ACTIVITY': '',\n",
       "  'EXPENDITURE': '',\n",
       "  'UNIT_MEASURE': 'USD_PPP',\n",
       "  'PRICE_BASE': 'LR',\n",
       "  'TRANSFORMATION': '',\n",
       "  'TABLE_IDENTIFIER': ''},\n",
       " 'I': {'FREQ': 'Q',\n",
       "  'ADJUSTMENT': '',\n",
       "  'REF_AREA': 'KOR+CAN+USA+CHN+GBR+DEU+FRA+JPN+ITA+IND+MEX+IRL',\n",
       "  'SECTOR': 'S1',\n",
       "  'COUNTERPART_SECTOR': '',\n",
       "  'TRANSACTION': 'P51G',\n",
       "  'INSTR_ASSET': '',\n",
       "  'ACTIVITY': '',\n",
       "  'EXPENDITURE': '',\n",
       "  'UNIT_MEASURE': 'USD_PPP',\n",
       "  'PRICE_BASE': 'LR',\n",
       "  'TRANSFORMATION': '',\n",
       "  'TABLE_IDENTIFIER': ''},\n",
       " 'EX': {'FREQ': 'Q',\n",
       "  'ADJUSTMENT': '',\n",
       "  'REF_AREA': 'KOR+CAN+USA+CHN+GBR+DEU+FRA+JPN+ITA+IND+MEX+IRL',\n",
       "  'SECTOR': 'S1',\n",
       "  'COUNTERPART_SECTOR': '',\n",
       "  'TRANSACTION': 'P6',\n",
       "  'INSTR_ASSET': '',\n",
       "  'ACTIVITY': '',\n",
       "  'EXPENDITURE': '',\n",
       "  'UNIT_MEASURE': 'USD_PPP',\n",
       "  'PRICE_BASE': 'LR',\n",
       "  'TRANSFORMATION': '',\n",
       "  'TABLE_IDENTIFIER': ''},\n",
       " 'IM': {'FREQ': 'Q',\n",
       "  'ADJUSTMENT': '',\n",
       "  'REF_AREA': 'KOR+CAN+USA+CHN+GBR+DEU+FRA+JPN+ITA+IND+MEX+IRL',\n",
       "  'SECTOR': 'S1',\n",
       "  'COUNTERPART_SECTOR': '',\n",
       "  'TRANSACTION': 'P7',\n",
       "  'INSTR_ASSET': '',\n",
       "  'ACTIVITY': '',\n",
       "  'EXPENDITURE': '',\n",
       "  'UNIT_MEASURE': 'USD_PPP',\n",
       "  'PRICE_BASE': 'LR',\n",
       "  'TRANSFORMATION': '',\n",
       "  'TABLE_IDENTIFIER': ''}}"
      ]
     },
     "execution_count": 4,
     "metadata": {},
     "output_type": "execute_result"
    }
   ],
   "source": [
    "default_recipe = recipe_loader.load(recipe_name=\"DEFAULT\")\n",
    "\n",
    "default_recipe"
   ]
  },
  {
   "cell_type": "markdown",
   "id": "8e4b5719",
   "metadata": {},
   "source": [
    "##### You can also update the recipe by using the following function.\n",
    "\n",
    "If you access OECD Data Explorer [webpage](https://data-explorer.oecd.org/) and query(search) for your needed data, it will have **developer api** section on the right."
   ]
  },
  {
   "cell_type": "markdown",
   "id": "318b2eae",
   "metadata": {},
   "source": [
    "![OECD_API_DEVELOPER](../docs/image/API_demo.png)"
   ]
  },
  {
   "cell_type": "markdown",
   "id": "d8ad8950",
   "metadata": {},
   "source": [
    "### WARNING: OECD API LIMITS\n",
    "\n",
    "##### Running the function ```update_recipe_from_url``` would create transactions as much as number of columns in the recipe.\n",
    "- This means if there are more than 20 columns, you cannot run it at once.\n",
    "- It also means that running it everytime would cost you the accessibility.\n",
    "- I strongly recommand you updating the recipe once in the beginning and later modfiy manually through ```recipe.json``` file.\n",
    "- You can generate your updated ```recipe.json``` with ```save()``` function.\n"
   ]
  },
  {
   "cell_type": "markdown",
   "id": "8c6926c9",
   "metadata": {},
   "source": [
    "##### Here, you can paste the copied link in the following format.\n",
    "\n",
    "- In nested dictionary format, you can designate the recipe name, and dictionaries of column name as a key and url link you copied as a value.\n",
    "\n",
    "- Each link **MUST** contain ONLY ONE transaction because multiple transactions would have different combinations of filters and will throw an error.\n",
    "\n",
    "- For instance, if you query multiple transactions in one link in the format of P3+D1+P5, there is a great chance that P3, D1, P5 would require different set of filters. This is why we require user to provide only one time series data for a variable.\n",
    "\n",
    "- FYI, I suggest you referring to [OECD API Documentation](../docs/OECD_API_documentation.pdf) for more information and understanding of API structure."
   ]
  },
  {
   "cell_type": "code",
   "execution_count": 5,
   "id": "7e395a31",
   "metadata": {},
   "outputs": [
    {
     "name": "stderr",
     "output_type": "stream",
     "text": [
      "INFO:oecddatabuilder.recipe_loader:Updating indicator 'A' with URL: https://sdmx.oecd.org/public/rest/data/OECD.SDD.NAD,DSD_NASEC1@DF_QSA,1.1/Q..AUT....P3.......?startPeriod=2023-Q3\n",
      "INFO:oecddatabuilder.recipe_loader:Metadata for indicator 'A' updated with: {'FREQ': 'Q', 'ADJUSTMENT': 'Y', 'REF_AREA': 'AUT', 'SECTOR': 'S13', 'COUNTERPART_SECTOR': 'S1', 'ACCOUNTING_ENTRY': 'D', 'TRANSACTION': 'P3', 'INSTR_ASSET': '_Z', 'EXPENDITURE': '_Z', 'UNIT_MEASURE': 'XDC', 'VALUATION': 'S', 'PRICE_BASE': 'V', 'TRANSFORMATION': 'N', 'TABLE_IDENTIFIER': 'T0801'}\n",
      "INFO:oecddatabuilder.recipe_loader:Updating indicator 'B' with URL: https://sdmx.oecd.org/public/rest/data/OECD.SDD.NAD,DSD_NASEC1@DF_QSA,1.1/Q..AUT....D1.......?startPeriod=2023-Q3\n",
      "INFO:oecddatabuilder.recipe_loader:Metadata for indicator 'B' updated with: {'FREQ': 'Q', 'ADJUSTMENT': 'N', 'REF_AREA': 'AUT', 'SECTOR': 'S1M', 'COUNTERPART_SECTOR': 'S1', 'ACCOUNTING_ENTRY': 'D', 'TRANSACTION': 'D1', 'INSTR_ASSET': '_Z', 'EXPENDITURE': '_Z', 'UNIT_MEASURE': 'XDC', 'VALUATION': 'S', 'PRICE_BASE': 'V', 'TRANSFORMATION': 'N', 'TABLE_IDENTIFIER': 'T0801'}\n",
      "INFO:oecddatabuilder.recipe_loader:Updating indicator 'C' with URL: https://sdmx.oecd.org/public/rest/data/OECD.SDD.NAD,DSD_NASEC1@DF_QSA,1.1/Q..AUT....P5.......?startPeriod=2023-Q3\n",
      "INFO:oecddatabuilder.recipe_loader:Metadata for indicator 'C' updated with: {'FREQ': 'Q', 'ADJUSTMENT': 'N', 'REF_AREA': 'AUT', 'SECTOR': 'S1', 'COUNTERPART_SECTOR': 'S1', 'ACCOUNTING_ENTRY': 'D', 'TRANSACTION': 'P5', 'INSTR_ASSET': '_Z', 'EXPENDITURE': '_Z', 'UNIT_MEASURE': 'XDC', 'VALUATION': 'S', 'PRICE_BASE': 'V', 'TRANSFORMATION': 'N', 'TABLE_IDENTIFIER': 'T0801'}\n",
      "INFO:oecddatabuilder.recipe_loader:Atomic write successful to /Users/minkeychang/oecddatabuilder/config/recipe.json\n",
      "INFO:oecddatabuilder.recipe_loader:Recipe group 'TUTORIAL' updated successfully in /Users/minkeychang/oecddatabuilder/config/recipe.json.\n",
      "INFO:oecddatabuilder.recipe_loader:Recipe update completed successfully.\n"
     ]
    }
   ],
   "source": [
    "recipe_loader.update_recipe_from_url(\"TUTORIAL\",\n",
    "                            {\"A\": \"https://sdmx.oecd.org/public/rest/data/OECD.SDD.NAD,DSD_NASEC1@DF_QSA,1.1/Q..AUT....P3.......?startPeriod=2023-Q3\",\n",
    "                             \"B\": \"https://sdmx.oecd.org/public/rest/data/OECD.SDD.NAD,DSD_NASEC1@DF_QSA,1.1/Q..AUT....D1.......?startPeriod=2023-Q3\",\n",
    "                             \"C\": \"https://sdmx.oecd.org/public/rest/data/OECD.SDD.NAD,DSD_NASEC1@DF_QSA,1.1/Q..AUT....P5.......?startPeriod=2023-Q3\"\n",
    "                             }\n",
    "                            )"
   ]
  },
  {
   "cell_type": "markdown",
   "id": "d177bc64",
   "metadata": {},
   "source": [
    "##### You can see that we now have another blueprint for the data **Tutorial**"
   ]
  },
  {
   "cell_type": "code",
   "execution_count": 5,
   "id": "22e19e54",
   "metadata": {},
   "outputs": [
    {
     "name": "stderr",
     "output_type": "stream",
     "text": [
      "INFO:oecddatabuilder.recipe_loader:User configuration merged for group 'TUTORIAL'.\n"
     ]
    },
    {
     "data": {
      "text/plain": [
       "{'A': {'FREQ': 'Q',\n",
       "  'ADJUSTMENT': 'Y',\n",
       "  'REF_AREA': 'AUT',\n",
       "  'SECTOR': 'S13',\n",
       "  'COUNTERPART_SECTOR': 'S1',\n",
       "  'ACCOUNTING_ENTRY': 'D',\n",
       "  'TRANSACTION': 'P3',\n",
       "  'INSTR_ASSET': '_Z',\n",
       "  'EXPENDITURE': '_Z',\n",
       "  'UNIT_MEASURE': 'XDC',\n",
       "  'VALUATION': 'S',\n",
       "  'PRICE_BASE': 'V',\n",
       "  'TRANSFORMATION': 'N',\n",
       "  'TABLE_IDENTIFIER': 'T0801'},\n",
       " 'B': {'FREQ': 'Q',\n",
       "  'ADJUSTMENT': 'N',\n",
       "  'REF_AREA': 'AUT',\n",
       "  'SECTOR': 'S1M',\n",
       "  'COUNTERPART_SECTOR': 'S1',\n",
       "  'ACCOUNTING_ENTRY': 'D',\n",
       "  'TRANSACTION': 'D1',\n",
       "  'INSTR_ASSET': '_Z',\n",
       "  'EXPENDITURE': '_Z',\n",
       "  'UNIT_MEASURE': 'XDC',\n",
       "  'VALUATION': 'S',\n",
       "  'PRICE_BASE': 'V',\n",
       "  'TRANSFORMATION': 'N',\n",
       "  'TABLE_IDENTIFIER': 'T0801'},\n",
       " 'C': {'FREQ': 'Q',\n",
       "  'ADJUSTMENT': 'N',\n",
       "  'REF_AREA': 'AUT',\n",
       "  'SECTOR': 'S1',\n",
       "  'COUNTERPART_SECTOR': 'S1',\n",
       "  'ACCOUNTING_ENTRY': 'D',\n",
       "  'TRANSACTION': 'P5',\n",
       "  'INSTR_ASSET': '_Z',\n",
       "  'EXPENDITURE': '_Z',\n",
       "  'UNIT_MEASURE': 'XDC',\n",
       "  'VALUATION': 'S',\n",
       "  'PRICE_BASE': 'V',\n",
       "  'TRANSFORMATION': 'N',\n",
       "  'TABLE_IDENTIFIER': 'T0801'}}"
      ]
     },
     "execution_count": 5,
     "metadata": {},
     "output_type": "execute_result"
    }
   ],
   "source": [
    "new_recipe = recipe_loader.load(recipe_name=\"TUTORIAL\")\n",
    "\n",
    "new_recipe"
   ]
  },
  {
   "cell_type": "markdown",
   "id": "2ad608ce",
   "metadata": {},
   "source": [
    "#####  You can save the new recipe to ensure you will use it next time."
   ]
  },
  {
   "cell_type": "code",
   "execution_count": 6,
   "id": "d87aee00",
   "metadata": {},
   "outputs": [
    {
     "name": "stderr",
     "output_type": "stream",
     "text": [
      "INFO:oecddatabuilder.recipe_loader:Atomic write successful to /Users/minkeychang/oecddatabuilder/config/recipe.json\n",
      "INFO:oecddatabuilder.recipe_loader:Entire recipe configuration saved successfully to /Users/minkeychang/oecddatabuilder/config/recipe.json.\n"
     ]
    }
   ],
   "source": [
    "recipe_loader.save()"
   ]
  },
  {
   "cell_type": "markdown",
   "id": "cd40a315",
   "metadata": {},
   "source": [
    "## Build Data\n",
    "\n",
    "##### Now you are almost there! you can build the data based on your recipe.\n",
    "\n",
    "- Current DEFAULT recipe contains QNA(Quarterly National Account) Dataset from OECD to construct the data for famous identity in economics\n",
    "$$\n",
    "Y = C + I + G + EX - IM\n",
    "$$\n",
    "\n",
    "- You can first load the recipe by calling load function of recipe loader class with your preferred recipe name."
   ]
  },
  {
   "cell_type": "code",
   "execution_count": 9,
   "id": "d46305db",
   "metadata": {},
   "outputs": [
    {
     "name": "stderr",
     "output_type": "stream",
     "text": [
      "INFO:oecddatabuilder.recipe_loader:User configuration merged for group 'DEFAULT'.\n"
     ]
    }
   ],
   "source": [
    "default_recipe = recipe_loader.load(\"DEFAULT\")"
   ]
  },
  {
   "cell_type": "markdown",
   "id": "98141890",
   "metadata": {},
   "source": [
    "##### Before actually building the dataframe, you can check it with the function ```test_api_connection(recipe)```.\n",
    "\n",
    "- Issue here is that you must provide base url too in the testing. each transaction and table has different name in ```OECD.SDD.NAD,DSD_NASEC1@DF_QSA,1.1/``` part.\n",
    "- If you look at the [API explainer page](https://www.oecd.org/en/data/insights/data-explainers/2024/09/api.html) you can see the structure below.\n",
    "- It is important that you need to provide the correct base url to test and build the dataset.\n",
    "\n",
    "![url_structure](../docs/image/url_structure.png)"
   ]
  },
  {
   "cell_type": "code",
   "execution_count": 10,
   "id": "82012677",
   "metadata": {},
   "outputs": [
    {
     "name": "stderr",
     "output_type": "stream",
     "text": [
      "WARNING:oecddatabuilder.utils:WARNING: Due to strict OECD API rate limits (20 queries per minute and 20 downloads per hour), this test uses a minimal time range to avoid blocking.\n",
      "INFO:oecddatabuilder.databuilder:Combined countries from configuration: ['AUT']\n",
      "INFO:oecddatabuilder.databuilder:For indicator 'A', processing time chunks: [('2024-Q1', '2024-Q1')]\n",
      "INFO:oecddatabuilder.databuilder:Fetching data for 'A' using URL: https://sdmx.oecd.org/public/rest/data/OECD.SDD.NAD,DSD_NASEC1@DF_QSA,1.1/Q.Y.AUT.S13.S1.D.P3._Z._Z.XDC.S.V.N.T0801\n",
      "Downloading A Data:   0%|          | 0/1 [00:00<?, ?it/s]INFO:oecddatabuilder.databuilder:Chunk 2024-Q1 to 2024-Q1: 1 rows fetched.\n",
      "Downloading A Data: 100%|██████████| 1/1 [00:07<00:00,  7.13s/it]\n",
      "INFO:oecddatabuilder.databuilder:Data for indicator 'A' saved to /Users/minkeychang/oecddatabuilder/datasets/OECD/A.csv\n",
      "INFO:oecddatabuilder.databuilder:For indicator 'B', processing time chunks: [('2024-Q1', '2024-Q1')]\n",
      "INFO:oecddatabuilder.databuilder:Fetching data for 'B' using URL: https://sdmx.oecd.org/public/rest/data/OECD.SDD.NAD,DSD_NASEC1@DF_QSA,1.1/Q.N.AUT.S1M.S1.D.D1._Z._Z.XDC.S.V.N.T0801\n",
      "Downloading B Data:   0%|          | 0/1 [00:00<?, ?it/s]INFO:oecddatabuilder.databuilder:Chunk 2024-Q1 to 2024-Q1: 1 rows fetched.\n",
      "Downloading B Data: 100%|██████████| 1/1 [00:07<00:00,  7.29s/it]\n",
      "INFO:oecddatabuilder.databuilder:Data for indicator 'B' saved to /Users/minkeychang/oecddatabuilder/datasets/OECD/B.csv\n",
      "INFO:oecddatabuilder.databuilder:For indicator 'C', processing time chunks: [('2024-Q1', '2024-Q1')]\n",
      "INFO:oecddatabuilder.databuilder:Fetching data for 'C' using URL: https://sdmx.oecd.org/public/rest/data/OECD.SDD.NAD,DSD_NASEC1@DF_QSA,1.1/Q.N.AUT.S1.S1.D.P5._Z._Z.XDC.S.V.N.T0801\n",
      "Downloading C Data:   0%|          | 0/1 [00:00<?, ?it/s]ERROR:oecddatabuilder.databuilder:Error fetching chunk 2024-Q1 to 2024-Q1 for 'C': 429 Client Error: Too Many Requests for url: https://sdmx.oecd.org/public/rest/data/OECD.SDD.NAD,DSD_NASEC1@DF_QSA,1.1/Q.N.AUT.S1.S1.D.P5._Z._Z.XDC.S.V.N.T0801?startPeriod=2024-Q1&endPeriod=2024-Q1&dimensionAtObservation=TIME_PERIOD\n",
      "Downloading C Data: 100%|██████████| 1/1 [00:35<00:00, 35.16s/it]\n",
      "INFO:oecddatabuilder.databuilder:Data for indicator 'C' saved to /Users/minkeychang/oecddatabuilder/datasets/OECD/C.csv\n",
      "INFO:oecddatabuilder.utils:Test recipe successful. DataFrame shape: (1, 5)\n"
     ]
    }
   ],
   "source": [
    "OECD_data.utils.test_recipe(new_recipe, base_url=\"https://sdmx.oecd.org/public/rest/data/OECD.SDD.NAD,DSD_NASEC1@DF_QSA,1.1/\")"
   ]
  },
  {
   "cell_type": "markdown",
   "id": "ce8ba80d",
   "metadata": {},
   "source": [
    "##### Here, you are encouraged to have large request interval and small chunk size because there's API limits.\n",
    "\n",
    "For the below code, it took 18m and 49.3s to execute and interval of 1 request per minute."
   ]
  },
  {
   "cell_type": "code",
   "execution_count": 15,
   "id": "2075fb70",
   "metadata": {},
   "outputs": [
    {
     "name": "stderr",
     "output_type": "stream",
     "text": [
      "INFO:oecddatabuilder.databuilder:Combined countries from configuration: ['CAN', 'CHN', 'DEU', 'FRA', 'GBR', 'IND', 'IRL', 'ITA', 'JPN', 'KOR', 'MEX', 'USA']\n"
     ]
    }
   ],
   "source": [
    "API = OECD_data.OECDAPI_Databuilder(config=default_recipe, start=\"1990-Q1\", end=\"2024-Q4\", freq=\"Q\", response_format=\"csv\",\n",
    "                                    dbpath=\"../datasets/OECD\",\n",
    "                                    base_url=\"https://sdmx.oecd.org/public/rest/data/OECD.SDD.NAD,DSD_NAMAIN1@DF_QNA,1.1/\", request_interval=60)"
   ]
  },
  {
   "cell_type": "code",
   "execution_count": 16,
   "id": "07876747",
   "metadata": {},
   "outputs": [
    {
     "name": "stderr",
     "output_type": "stream",
     "text": [
      "INFO:oecddatabuilder.databuilder:For indicator 'Y', processing time chunks: [('1990-Q1', '2002-Q2'), ('2002-Q3', '2014-Q4'), ('2015-Q1', '2024-Q4')]\n",
      "INFO:oecddatabuilder.databuilder:Fetching data for 'Y' using URL: https://sdmx.oecd.org/public/rest/data/OECD.SDD.NAD,DSD_NAMAIN1@DF_QNA,1.1/Q..KOR+CAN+USA+CHN+GBR+DEU+FRA+JPN+ITA+IND+MEX+IRL.S1..B1GQ....USD_PPP.LR..\n",
      "Downloading Y Data:   0%|          | 0/3 [00:00<?, ?it/s]INFO:oecddatabuilder.databuilder:Chunk 1990-Q1 to 2002-Q2: 525 rows fetched.\n",
      "Downloading Y Data:  33%|███▎      | 1/3 [01:00<02:00, 60.46s/it]INFO:oecddatabuilder.databuilder:Chunk 2002-Q3 to 2014-Q4: 550 rows fetched.\n",
      "Downloading Y Data:  67%|██████▋   | 2/3 [02:01<01:00, 60.58s/it]INFO:oecddatabuilder.databuilder:Chunk 2015-Q1 to 2024-Q4: 440 rows fetched.\n",
      "Downloading Y Data: 100%|██████████| 3/3 [03:03<00:00, 61.24s/it]\n",
      "INFO:oecddatabuilder.databuilder:Data for indicator 'Y' saved to ../datasets/OECD/Y.csv\n",
      "INFO:oecddatabuilder.databuilder:For indicator 'C', processing time chunks: [('1990-Q1', '2002-Q2'), ('2002-Q3', '2014-Q4'), ('2015-Q1', '2024-Q4')]\n",
      "INFO:oecddatabuilder.databuilder:Fetching data for 'C' using URL: https://sdmx.oecd.org/public/rest/data/OECD.SDD.NAD,DSD_NAMAIN1@DF_QNA,1.1/Q..KOR+CAN+USA+CHN+GBR+DEU+FRA+JPN+ITA+IND+MEX+IRL.S1M..P3....USD_PPP.LR..\n",
      "Downloading C Data:   0%|          | 0/3 [00:00<?, ?it/s]INFO:oecddatabuilder.databuilder:Chunk 1990-Q1 to 2002-Q2: 525 rows fetched.\n",
      "Downloading C Data:  33%|███▎      | 1/3 [01:03<02:06, 63.03s/it]INFO:oecddatabuilder.databuilder:Chunk 2002-Q3 to 2014-Q4: 550 rows fetched.\n",
      "Downloading C Data:  67%|██████▋   | 2/3 [02:06<01:02, 63.00s/it]INFO:oecddatabuilder.databuilder:Chunk 2015-Q1 to 2024-Q4: 440 rows fetched.\n",
      "Downloading C Data: 100%|██████████| 3/3 [03:09<00:00, 63.10s/it]\n",
      "INFO:oecddatabuilder.databuilder:Data for indicator 'C' saved to ../datasets/OECD/C.csv\n",
      "INFO:oecddatabuilder.databuilder:For indicator 'G', processing time chunks: [('1990-Q1', '2002-Q2'), ('2002-Q3', '2014-Q4'), ('2015-Q1', '2024-Q4')]\n",
      "INFO:oecddatabuilder.databuilder:Fetching data for 'G' using URL: https://sdmx.oecd.org/public/rest/data/OECD.SDD.NAD,DSD_NAMAIN1@DF_QNA,1.1/Q..KOR+CAN+USA+CHN+GBR+DEU+FRA+JPN+ITA+IND+MEX+IRL.S13..P3....USD_PPP.LR..\n",
      "Downloading G Data:   0%|          | 0/3 [00:00<?, ?it/s]INFO:oecddatabuilder.databuilder:Chunk 1990-Q1 to 2002-Q2: 525 rows fetched.\n",
      "Downloading G Data:  33%|███▎      | 1/3 [01:02<02:04, 62.35s/it]INFO:oecddatabuilder.databuilder:Chunk 2002-Q3 to 2014-Q4: 550 rows fetched.\n",
      "Downloading G Data:  67%|██████▋   | 2/3 [02:06<01:03, 63.40s/it]INFO:oecddatabuilder.databuilder:Chunk 2015-Q1 to 2024-Q4: 440 rows fetched.\n",
      "Downloading G Data: 100%|██████████| 3/3 [03:09<00:00, 63.18s/it]\n",
      "INFO:oecddatabuilder.databuilder:Data for indicator 'G' saved to ../datasets/OECD/G.csv\n",
      "INFO:oecddatabuilder.databuilder:For indicator 'I', processing time chunks: [('1990-Q1', '2002-Q2'), ('2002-Q3', '2014-Q4'), ('2015-Q1', '2024-Q4')]\n",
      "INFO:oecddatabuilder.databuilder:Fetching data for 'I' using URL: https://sdmx.oecd.org/public/rest/data/OECD.SDD.NAD,DSD_NAMAIN1@DF_QNA,1.1/Q..KOR+CAN+USA+CHN+GBR+DEU+FRA+JPN+ITA+IND+MEX+IRL.S1..P51G....USD_PPP.LR..\n",
      "Downloading I Data:   0%|          | 0/3 [00:00<?, ?it/s]INFO:oecddatabuilder.databuilder:Chunk 1990-Q1 to 2002-Q2: 525 rows fetched.\n",
      "Downloading I Data:  33%|███▎      | 1/3 [01:02<02:05, 62.62s/it]INFO:oecddatabuilder.databuilder:Chunk 2002-Q3 to 2014-Q4: 550 rows fetched.\n",
      "Downloading I Data:  67%|██████▋   | 2/3 [02:05<01:02, 62.67s/it]INFO:oecddatabuilder.databuilder:Chunk 2015-Q1 to 2024-Q4: 440 rows fetched.\n",
      "Downloading I Data: 100%|██████████| 3/3 [03:07<00:00, 62.67s/it]\n",
      "INFO:oecddatabuilder.databuilder:Data for indicator 'I' saved to ../datasets/OECD/I.csv\n",
      "INFO:oecddatabuilder.databuilder:For indicator 'EX', processing time chunks: [('1990-Q1', '2002-Q2'), ('2002-Q3', '2014-Q4'), ('2015-Q1', '2024-Q4')]\n",
      "INFO:oecddatabuilder.databuilder:Fetching data for 'EX' using URL: https://sdmx.oecd.org/public/rest/data/OECD.SDD.NAD,DSD_NAMAIN1@DF_QNA,1.1/Q..KOR+CAN+USA+CHN+GBR+DEU+FRA+JPN+ITA+IND+MEX+IRL.S1..P6....USD_PPP.LR..\n",
      "Downloading EX Data:   0%|          | 0/3 [00:00<?, ?it/s]INFO:oecddatabuilder.databuilder:Chunk 1990-Q1 to 2002-Q2: 525 rows fetched.\n",
      "Downloading EX Data:  33%|███▎      | 1/3 [01:02<02:05, 62.69s/it]INFO:oecddatabuilder.databuilder:Chunk 2002-Q3 to 2014-Q4: 550 rows fetched.\n",
      "Downloading EX Data:  67%|██████▋   | 2/3 [02:05<01:02, 62.84s/it]INFO:oecddatabuilder.databuilder:Chunk 2015-Q1 to 2024-Q4: 440 rows fetched.\n",
      "Downloading EX Data: 100%|██████████| 3/3 [03:07<00:00, 62.60s/it]\n",
      "INFO:oecddatabuilder.databuilder:Data for indicator 'EX' saved to ../datasets/OECD/EX.csv\n",
      "INFO:oecddatabuilder.databuilder:For indicator 'IM', processing time chunks: [('1990-Q1', '2002-Q2'), ('2002-Q3', '2014-Q4'), ('2015-Q1', '2024-Q4')]\n",
      "INFO:oecddatabuilder.databuilder:Fetching data for 'IM' using URL: https://sdmx.oecd.org/public/rest/data/OECD.SDD.NAD,DSD_NAMAIN1@DF_QNA,1.1/Q..KOR+CAN+USA+CHN+GBR+DEU+FRA+JPN+ITA+IND+MEX+IRL.S1..P7....USD_PPP.LR..\n",
      "Downloading IM Data:   0%|          | 0/3 [00:00<?, ?it/s]INFO:oecddatabuilder.databuilder:Chunk 1990-Q1 to 2002-Q2: 525 rows fetched.\n",
      "Downloading IM Data:  33%|███▎      | 1/3 [01:04<02:08, 64.05s/it]INFO:oecddatabuilder.databuilder:Chunk 2002-Q3 to 2014-Q4: 550 rows fetched.\n",
      "Downloading IM Data:  67%|██████▋   | 2/3 [02:07<01:03, 63.43s/it]INFO:oecddatabuilder.databuilder:Chunk 2015-Q1 to 2024-Q4: 440 rows fetched.\n",
      "Downloading IM Data: 100%|██████████| 3/3 [03:10<00:00, 63.65s/it]\n",
      "INFO:oecddatabuilder.databuilder:Data for indicator 'IM' saved to ../datasets/OECD/IM.csv\n"
     ]
    },
    {
     "data": {
      "text/plain": [
       "<oecddatabuilder.databuilder.OECDAPI_Databuilder at 0x10dce8690>"
      ]
     },
     "execution_count": 16,
     "metadata": {},
     "output_type": "execute_result"
    }
   ],
   "source": [
    "API.fetch_data(chunk_size=50)"
   ]
  },
  {
   "cell_type": "markdown",
   "id": "843db828",
   "metadata": {},
   "source": [
    "## Now finally! We have fetched all the dataset.\n",
    "\n",
    "- We can aggregate these data to create one dataframe that we designed from the beginning in the 'recipe'.\n",
    "- Data would consist of 'date', 'country', and all the other indicator value columns."
   ]
  },
  {
   "cell_type": "code",
   "execution_count": null,
   "id": "ef3e5be7",
   "metadata": {},
   "outputs": [],
   "source": [
    "df = API.create_dataframe()"
   ]
  },
  {
   "cell_type": "code",
   "execution_count": 18,
   "id": "ee187895",
   "metadata": {},
   "outputs": [
    {
     "data": {
      "text/html": [
       "<div>\n",
       "<style scoped>\n",
       "    .dataframe tbody tr th:only-of-type {\n",
       "        vertical-align: middle;\n",
       "    }\n",
       "\n",
       "    .dataframe tbody tr th {\n",
       "        vertical-align: top;\n",
       "    }\n",
       "\n",
       "    .dataframe thead th {\n",
       "        text-align: right;\n",
       "    }\n",
       "</style>\n",
       "<table border=\"1\" class=\"dataframe\">\n",
       "  <thead>\n",
       "    <tr style=\"text-align: right;\">\n",
       "      <th></th>\n",
       "      <th>country</th>\n",
       "      <th>date</th>\n",
       "      <th>Y</th>\n",
       "      <th>C</th>\n",
       "      <th>G</th>\n",
       "      <th>I</th>\n",
       "      <th>EX</th>\n",
       "      <th>IM</th>\n",
       "    </tr>\n",
       "  </thead>\n",
       "  <tbody>\n",
       "    <tr>\n",
       "      <th>0</th>\n",
       "      <td>CAN</td>\n",
       "      <td>1990-01-01</td>\n",
       "      <td>1015714.7</td>\n",
       "      <td>518707.4</td>\n",
       "      <td>271355.6</td>\n",
       "      <td>223461.1</td>\n",
       "      <td>207736.8</td>\n",
       "      <td>200021.9</td>\n",
       "    </tr>\n",
       "    <tr>\n",
       "      <th>1</th>\n",
       "      <td>DEU</td>\n",
       "      <td>1990-01-01</td>\n",
       "      <td>3220806.5</td>\n",
       "      <td>1811014.8</td>\n",
       "      <td>569128.8</td>\n",
       "      <td>725261.2</td>\n",
       "      <td>527153.8</td>\n",
       "      <td>489620.3</td>\n",
       "    </tr>\n",
       "    <tr>\n",
       "      <th>2</th>\n",
       "      <td>FRA</td>\n",
       "      <td>1990-01-01</td>\n",
       "      <td>2244890.8</td>\n",
       "      <td>1170205.4</td>\n",
       "      <td>554966.9</td>\n",
       "      <td>517196.6</td>\n",
       "      <td>352329.9</td>\n",
       "      <td>353194.4</td>\n",
       "    </tr>\n",
       "    <tr>\n",
       "      <th>3</th>\n",
       "      <td>GBR</td>\n",
       "      <td>1990-01-01</td>\n",
       "      <td>2038060.5</td>\n",
       "      <td>1141647.3</td>\n",
       "      <td>450827.1</td>\n",
       "      <td>404835.9</td>\n",
       "      <td>345478.9</td>\n",
       "      <td>331416.2</td>\n",
       "    </tr>\n",
       "    <tr>\n",
       "      <th>4</th>\n",
       "      <td>IRL</td>\n",
       "      <td>1990-01-01</td>\n",
       "      <td>99243.7</td>\n",
       "      <td>47489.0</td>\n",
       "      <td>21623.8</td>\n",
       "      <td>23005.3</td>\n",
       "      <td>29526.0</td>\n",
       "      <td>33508.4</td>\n",
       "    </tr>\n",
       "  </tbody>\n",
       "</table>\n",
       "</div>"
      ],
      "text/plain": [
       "  country       date          Y          C         G         I        EX  \\\n",
       "0     CAN 1990-01-01  1015714.7   518707.4  271355.6  223461.1  207736.8   \n",
       "1     DEU 1990-01-01  3220806.5  1811014.8  569128.8  725261.2  527153.8   \n",
       "2     FRA 1990-01-01  2244890.8  1170205.4  554966.9  517196.6  352329.9   \n",
       "3     GBR 1990-01-01  2038060.5  1141647.3  450827.1  404835.9  345478.9   \n",
       "4     IRL 1990-01-01    99243.7    47489.0   21623.8   23005.3   29526.0   \n",
       "\n",
       "         IM  \n",
       "0  200021.9  \n",
       "1  489620.3  \n",
       "2  353194.4  \n",
       "3  331416.2  \n",
       "4   33508.4  "
      ]
     },
     "execution_count": 18,
     "metadata": {},
     "output_type": "execute_result"
    }
   ],
   "source": [
    "df.head()"
   ]
  },
  {
   "cell_type": "code",
   "execution_count": 19,
   "id": "6808830b",
   "metadata": {},
   "outputs": [
    {
     "name": "stdout",
     "output_type": "stream",
     "text": [
      "<class 'pandas.core.frame.DataFrame'>\n",
      "RangeIndex: 1515 entries, 0 to 1514\n",
      "Data columns (total 8 columns):\n",
      " #   Column   Non-Null Count  Dtype         \n",
      "---  ------   --------------  -----         \n",
      " 0   country  1515 non-null   object        \n",
      " 1   date     1515 non-null   datetime64[ns]\n",
      " 2   Y        1515 non-null   float64       \n",
      " 3   C        1515 non-null   float64       \n",
      " 4   G        1515 non-null   float64       \n",
      " 5   I        1515 non-null   float64       \n",
      " 6   EX       1515 non-null   float64       \n",
      " 7   IM       1515 non-null   float64       \n",
      "dtypes: datetime64[ns](1), float64(6), object(1)\n",
      "memory usage: 94.8+ KB\n"
     ]
    }
   ],
   "source": [
    "df.info()"
   ]
  },
  {
   "cell_type": "code",
   "execution_count": 20,
   "id": "00a2b429",
   "metadata": {},
   "outputs": [
    {
     "data": {
      "text/html": [
       "<div>\n",
       "<style scoped>\n",
       "    .dataframe tbody tr th:only-of-type {\n",
       "        vertical-align: middle;\n",
       "    }\n",
       "\n",
       "    .dataframe tbody tr th {\n",
       "        vertical-align: top;\n",
       "    }\n",
       "\n",
       "    .dataframe thead th {\n",
       "        text-align: right;\n",
       "    }\n",
       "</style>\n",
       "<table border=\"1\" class=\"dataframe\">\n",
       "  <thead>\n",
       "    <tr style=\"text-align: right;\">\n",
       "      <th></th>\n",
       "      <th>date</th>\n",
       "      <th>Y</th>\n",
       "      <th>C</th>\n",
       "      <th>G</th>\n",
       "      <th>I</th>\n",
       "      <th>EX</th>\n",
       "      <th>IM</th>\n",
       "    </tr>\n",
       "  </thead>\n",
       "  <tbody>\n",
       "    <tr>\n",
       "      <th>count</th>\n",
       "      <td>1515</td>\n",
       "      <td>1.515000e+03</td>\n",
       "      <td>1.515000e+03</td>\n",
       "      <td>1.515000e+03</td>\n",
       "      <td>1.515000e+03</td>\n",
       "      <td>1.515000e+03</td>\n",
       "      <td>1.515000e+03</td>\n",
       "    </tr>\n",
       "    <tr>\n",
       "      <th>mean</th>\n",
       "      <td>2007-08-11 22:46:48.712871168</td>\n",
       "      <td>4.241895e+06</td>\n",
       "      <td>2.563826e+06</td>\n",
       "      <td>7.237113e+05</td>\n",
       "      <td>9.444098e+05</td>\n",
       "      <td>8.196882e+05</td>\n",
       "      <td>8.333748e+05</td>\n",
       "    </tr>\n",
       "    <tr>\n",
       "      <th>min</th>\n",
       "      <td>1990-01-01 00:00:00</td>\n",
       "      <td>9.924370e+04</td>\n",
       "      <td>4.746960e+04</td>\n",
       "      <td>2.162380e+04</td>\n",
       "      <td>2.043680e+04</td>\n",
       "      <td>2.952600e+04</td>\n",
       "      <td>3.350840e+04</td>\n",
       "    </tr>\n",
       "    <tr>\n",
       "      <th>25%</th>\n",
       "      <td>1999-01-01 00:00:00</td>\n",
       "      <td>1.912877e+06</td>\n",
       "      <td>1.074759e+06</td>\n",
       "      <td>2.901825e+05</td>\n",
       "      <td>4.263298e+05</td>\n",
       "      <td>4.460424e+05</td>\n",
       "      <td>4.099463e+05</td>\n",
       "    </tr>\n",
       "    <tr>\n",
       "      <th>50%</th>\n",
       "      <td>2007-10-01 00:00:00</td>\n",
       "      <td>2.848272e+06</td>\n",
       "      <td>1.698452e+06</td>\n",
       "      <td>5.637789e+05</td>\n",
       "      <td>6.005137e+05</td>\n",
       "      <td>7.129703e+05</td>\n",
       "      <td>6.718581e+05</td>\n",
       "    </tr>\n",
       "    <tr>\n",
       "      <th>75%</th>\n",
       "      <td>2016-04-01 00:00:00</td>\n",
       "      <td>4.547096e+06</td>\n",
       "      <td>2.446822e+06</td>\n",
       "      <td>8.523890e+05</td>\n",
       "      <td>1.029951e+06</td>\n",
       "      <td>1.005474e+06</td>\n",
       "      <td>9.838974e+05</td>\n",
       "    </tr>\n",
       "    <tr>\n",
       "      <th>max</th>\n",
       "      <td>2024-10-01 00:00:00</td>\n",
       "      <td>2.480442e+07</td>\n",
       "      <td>1.702844e+07</td>\n",
       "      <td>3.373352e+06</td>\n",
       "      <td>5.368658e+06</td>\n",
       "      <td>2.879028e+06</td>\n",
       "      <td>3.665950e+06</td>\n",
       "    </tr>\n",
       "    <tr>\n",
       "      <th>std</th>\n",
       "      <td>NaN</td>\n",
       "      <td>4.639012e+06</td>\n",
       "      <td>3.118594e+06</td>\n",
       "      <td>6.969413e+05</td>\n",
       "      <td>9.876361e+05</td>\n",
       "      <td>5.646921e+05</td>\n",
       "      <td>6.431905e+05</td>\n",
       "    </tr>\n",
       "  </tbody>\n",
       "</table>\n",
       "</div>"
      ],
      "text/plain": [
       "                                date             Y             C  \\\n",
       "count                           1515  1.515000e+03  1.515000e+03   \n",
       "mean   2007-08-11 22:46:48.712871168  4.241895e+06  2.563826e+06   \n",
       "min              1990-01-01 00:00:00  9.924370e+04  4.746960e+04   \n",
       "25%              1999-01-01 00:00:00  1.912877e+06  1.074759e+06   \n",
       "50%              2007-10-01 00:00:00  2.848272e+06  1.698452e+06   \n",
       "75%              2016-04-01 00:00:00  4.547096e+06  2.446822e+06   \n",
       "max              2024-10-01 00:00:00  2.480442e+07  1.702844e+07   \n",
       "std                              NaN  4.639012e+06  3.118594e+06   \n",
       "\n",
       "                  G             I            EX            IM  \n",
       "count  1.515000e+03  1.515000e+03  1.515000e+03  1.515000e+03  \n",
       "mean   7.237113e+05  9.444098e+05  8.196882e+05  8.333748e+05  \n",
       "min    2.162380e+04  2.043680e+04  2.952600e+04  3.350840e+04  \n",
       "25%    2.901825e+05  4.263298e+05  4.460424e+05  4.099463e+05  \n",
       "50%    5.637789e+05  6.005137e+05  7.129703e+05  6.718581e+05  \n",
       "75%    8.523890e+05  1.029951e+06  1.005474e+06  9.838974e+05  \n",
       "max    3.373352e+06  5.368658e+06  2.879028e+06  3.665950e+06  \n",
       "std    6.969413e+05  9.876361e+05  5.646921e+05  6.431905e+05  "
      ]
     },
     "execution_count": 20,
     "metadata": {},
     "output_type": "execute_result"
    }
   ],
   "source": [
    "df.describe()"
   ]
  },
  {
   "cell_type": "markdown",
   "id": "7bc2d8f6",
   "metadata": {},
   "source": [
    "# Congratulations! You have created your own dataset for economic analysis from OECD API\n",
    "\n",
    "There's always room for improvement so I am open to any pull requests, forks, suggestions!\n",
    "\n",
    "Happy downloading OECD API datasets! (Sounds like LLM but all written by myself.)"
   ]
  }
 ],
 "metadata": {
  "kernelspec": {
   "display_name": "oecddatabuilder-JsEVO9Jv-py3.11",
   "language": "python",
   "name": "python3"
  },
  "language_info": {
   "codemirror_mode": {
    "name": "ipython",
    "version": 3
   },
   "file_extension": ".py",
   "mimetype": "text/x-python",
   "name": "python",
   "nbconvert_exporter": "python",
   "pygments_lexer": "ipython3",
   "version": "3.11.7"
  }
 },
 "nbformat": 4,
 "nbformat_minor": 5
}
