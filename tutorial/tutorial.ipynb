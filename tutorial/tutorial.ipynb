{
 "cells": [
  {
   "cell_type": "code",
   "execution_count": 7,
   "id": "1c71b5f1",
   "metadata": {},
   "outputs": [],
   "source": [
    "import oecddatabuilder as OECD_data"
   ]
  },
  {
   "cell_type": "code",
   "execution_count": 8,
   "id": "d2163c59",
   "metadata": {},
   "outputs": [
    {
     "name": "stderr",
     "output_type": "stream",
     "text": [
      "INFO:oecddatabuilder.utils:API connection successful.\n"
     ]
    }
   ],
   "source": [
    "OECD_data.utils.test_api_connection()"
   ]
  },
  {
   "cell_type": "code",
   "execution_count": 9,
   "id": "1154e85c",
   "metadata": {},
   "outputs": [],
   "source": [
    "recipe_loader = OECD_data.RecipeLoader()"
   ]
  },
  {
   "cell_type": "code",
   "execution_count": null,
   "id": "7e395a31",
   "metadata": {},
   "outputs": [
    {
     "name": "stderr",
     "output_type": "stream",
     "text": [
      "INFO:oecddatabuilder.recipe_loader:Updating recipe for recipe group 'QNA'.\n"
     ]
    },
    {
     "ename": "AttributeError",
     "evalue": "'str' object has no attribute 'items'",
     "output_type": "error",
     "traceback": [
      "\u001b[31m---------------------------------------------------------------------------\u001b[39m",
      "\u001b[31mAttributeError\u001b[39m                            Traceback (most recent call last)",
      "\u001b[36mCell\u001b[39m\u001b[36m \u001b[39m\u001b[32mIn[10]\u001b[39m\u001b[32m, line 1\u001b[39m\n\u001b[32m----> \u001b[39m\u001b[32m1\u001b[39m \u001b[43mrecipe_loader\u001b[49m\u001b[43m.\u001b[49m\u001b[43mupdate_recipe\u001b[49m\u001b[43m(\u001b[49m\u001b[33;43m\"\u001b[39;49m\u001b[33;43mQNA\u001b[39;49m\u001b[33;43m\"\u001b[39;49m\u001b[43m,\u001b[49m\u001b[43m \u001b[49m\u001b[33;43m\"\u001b[39;49m\u001b[33;43mhttps://sdmx.oecd.org/public/rest/data/OECD.SDD.NAD,DSD_NAMAIN1@DF_QNA,1.1/Q..AUT...POP._Z......?lastNObservations=1\u001b[39;49m\u001b[33;43m\"\u001b[39;49m\u001b[43m)\u001b[49m\n",
      "\u001b[36mFile \u001b[39m\u001b[32m~/oecddatabuilder/src/oecddatabuilder/recipe_loader.py:131\u001b[39m, in \u001b[36mRecipeLoader.update_recipe\u001b[39m\u001b[34m(self, recipe_name, indicator_urls)\u001b[39m\n\u001b[32m    128\u001b[39m recipe_config = \u001b[38;5;28mgetattr\u001b[39m(recipe, recipe_name)\n\u001b[32m    129\u001b[39m logger.info(\u001b[33mf\u001b[39m\u001b[33m\"\u001b[39m\u001b[33mUpdating recipe for recipe group \u001b[39m\u001b[33m'\u001b[39m\u001b[38;5;132;01m{\u001b[39;00mrecipe_name\u001b[38;5;132;01m}\u001b[39;00m\u001b[33m'\u001b[39m\u001b[33m.\u001b[39m\u001b[33m\"\u001b[39m)\n\u001b[32m--> \u001b[39m\u001b[32m131\u001b[39m \u001b[38;5;28;01mfor\u001b[39;00m indicator, url \u001b[38;5;129;01min\u001b[39;00m \u001b[43mindicator_urls\u001b[49m\u001b[43m.\u001b[49m\u001b[43mitems\u001b[49m():\n\u001b[32m    132\u001b[39m     \u001b[38;5;28;01mif\u001b[39;00m indicator \u001b[38;5;129;01mnot\u001b[39;00m \u001b[38;5;129;01min\u001b[39;00m recipe_config:\n\u001b[32m    133\u001b[39m         logger.info(\u001b[33mf\u001b[39m\u001b[33m\"\u001b[39m\u001b[33mIndicator \u001b[39m\u001b[33m'\u001b[39m\u001b[38;5;132;01m{\u001b[39;00mindicator\u001b[38;5;132;01m}\u001b[39;00m\u001b[33m'\u001b[39m\u001b[33m not found in recipe \u001b[39m\u001b[33m'\u001b[39m\u001b[38;5;132;01m{\u001b[39;00mrecipe_name\u001b[38;5;132;01m}\u001b[39;00m\u001b[33m'\u001b[39m\u001b[33m. Creating new entry.\u001b[39m\u001b[33m\"\u001b[39m)\n",
      "\u001b[31mAttributeError\u001b[39m: 'str' object has no attribute 'items'"
     ]
    }
   ],
   "source": [
    "recipe_loader.update_recipe(\"QNA\", {\"N\":\"https://sdmx.oecd.org/public/rest/data/OECD.SDD.NAD,DSD_NAMAIN1@DF_QNA,1.1/Q..AUT...POP._Z......?lastNObservations=1\"})"
   ]
  },
  {
   "cell_type": "code",
   "execution_count": null,
   "id": "d46305db",
   "metadata": {},
   "outputs": [],
   "source": [
    "\n",
    "\n",
    "recipe_loader.update_recipe(\"QSA\", \"https://sdmx.oecd.org/public/rest/data/OECD.SDD.NAD,DSD_NASEC1@DF_QSA,1.1/Q..AUT....P3+D1+P5.......?startPeriod=2023-Q3\")\n",
    "QNA = recipe_loader.load(\"QNA\")\n",
    "QSA = recipe_loader.load(\"QSA\")"
   ]
  },
  {
   "cell_type": "code",
   "execution_count": null,
   "id": "eeb8cc74",
   "metadata": {},
   "outputs": [],
   "source": [
    "API_QNA = OECD_data.OECDAPI_Databuilder(recipe=QNA, start = \"2024-Q1\", end = \"2024-Q4\", freq = \"Q\",\n",
    "                          dbpath=\"../datasets/OECD/\",\n",
    "                          base_url=\"https://sdmx.oecd.org/public/rest/data/OECD.SDD.NAD,DSD_NAMAIN1@DF_QNA,1.1/\")"
   ]
  },
  {
   "cell_type": "code",
   "execution_count": null,
   "id": "1a83f95b",
   "metadata": {},
   "outputs": [],
   "source": [
    "API_QNA.fetch_data(chunk_size = 100)"
   ]
  },
  {
   "cell_type": "code",
   "execution_count": null,
   "id": "d8ea36e6",
   "metadata": {},
   "outputs": [],
   "source": [
    "df_QNA = API_QNA.create_dataframe()"
   ]
  },
  {
   "cell_type": "code",
   "execution_count": null,
   "id": "0fee747a",
   "metadata": {},
   "outputs": [],
   "source": [
    "API_QSA = OECD_data.OECDAPI_Databuilder(recipe=QSA, start = \"2024-Q1\", end = \"2024-Q4\", freq = \"Q\",\n",
    "                          dbpath=\"../datasets/OECD/\",\n",
    "                          base_url=\"https://sdmx.oecd.org/public/rest/data/OECD.SDD.NAD,DSD_NASEC1@DF_QSA,1.1/\")"
   ]
  },
  {
   "cell_type": "code",
   "execution_count": null,
   "id": "a831d2e4",
   "metadata": {},
   "outputs": [],
   "source": [
    "df_QSA = API_QSA.create_dataframe"
   ]
  },
  {
   "cell_type": "code",
   "execution_count": null,
   "id": "82012677",
   "metadata": {},
   "outputs": [],
   "source": []
  },
  {
   "cell_type": "code",
   "execution_count": null,
   "id": "2075fb70",
   "metadata": {},
   "outputs": [],
   "source": []
  },
  {
   "cell_type": "code",
   "execution_count": null,
   "id": "07876747",
   "metadata": {},
   "outputs": [],
   "source": []
  }
 ],
 "metadata": {
  "kernelspec": {
   "display_name": "oecddatabuilder-JsEVO9Jv-py3.11",
   "language": "python",
   "name": "python3"
  },
  "language_info": {
   "codemirror_mode": {
    "name": "ipython",
    "version": 3
   },
   "file_extension": ".py",
   "mimetype": "text/x-python",
   "name": "python",
   "nbconvert_exporter": "python",
   "pygments_lexer": "ipython3",
   "version": "3.11.7"
  }
 },
 "nbformat": 4,
 "nbformat_minor": 5
}
