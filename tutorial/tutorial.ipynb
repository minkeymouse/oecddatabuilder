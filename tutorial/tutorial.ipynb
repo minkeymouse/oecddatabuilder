{
 "cells": [
  {
   "cell_type": "markdown",
   "id": "7f1aced3",
   "metadata": {},
   "source": [
    "# Tutorial for creating your own dataset from OECD API\n",
    "\n",
    "After following this tutorial, you are expected to\n",
    "\n",
    "1. Test api connections\n",
    "2. Create and update your own recipe for your data\n",
    "3. Run the databuilder and store the data for analysis"
   ]
  },
  {
   "cell_type": "markdown",
   "id": "b037db45",
   "metadata": {},
   "source": [
    "## Importing the module and checking the API connection.\n",
    "\n",
    "Remember, OECD is imposing 20 queries per minute and 20 downloads per hour limit."
   ]
  },
  {
   "cell_type": "code",
   "execution_count": null,
   "id": "c369e311",
   "metadata": {},
   "outputs": [],
   "source": [
    "#!pip install oecddatabuilder"
   ]
  },
  {
   "cell_type": "code",
   "execution_count": 1,
   "id": "1c71b5f1",
   "metadata": {},
   "outputs": [
    {
     "name": "stderr",
     "output_type": "stream",
     "text": [
      "INFO:oecddatabuilder.utils:API connection successful.\n"
     ]
    }
   ],
   "source": [
    "import oecddatabuilder as OECD_data\n",
    "\n",
    "OECD_data.utils.test_api_connection()"
   ]
  },
  {
   "cell_type": "markdown",
   "id": "aca47576",
   "metadata": {},
   "source": [
    "## RECIPE\n",
    "\n",
    "- First, you need to prepare the recipe for your data. Recipe is a nested dictionary to store necessary information about your query.\n",
    "\n",
    "- RecipeLoader is simple, it has two functions: \"load\" and \"update\""
   ]
  },
  {
   "cell_type": "code",
   "execution_count": 4,
   "id": "1154e85c",
   "metadata": {},
   "outputs": [
    {
     "name": "stderr",
     "output_type": "stream",
     "text": [
      "ERROR:oecddatabuilder.recipe_loader:Error loading recipe file: Expecting value: line 1 column 1 (char 0)\n",
      "WARNING:oecddatabuilder.recipe_loader:Creating new recipe configuration with default settings.\n",
      "INFO:oecddatabuilder.recipe_loader:Atomic write successful to /Users/minkeychang/oecddatabuilder/config/recipe.json\n",
      "INFO:oecddatabuilder.recipe_loader:Entire recipe configuration saved successfully to /Users/minkeychang/oecddatabuilder/config/recipe.json.\n"
     ]
    }
   ],
   "source": [
    "recipe_loader = OECD_data.RecipeLoader()"
   ]
  },
  {
   "cell_type": "code",
   "execution_count": 5,
   "id": "0f3fca58",
   "metadata": {},
   "outputs": [
    {
     "name": "stdout",
     "output_type": "stream",
     "text": [
      "{'DEFAULT': {'C': {'ACTIVITY': '',\n",
      "                   'ADJUSTMENT': '',\n",
      "                   'COUNTERPART_SECTOR': '',\n",
      "                   'EXPENDITURE': '',\n",
      "                   'FREQ': 'Q',\n",
      "                   'INSTR_ASSET': '',\n",
      "                   'PRICE_BASE': 'LR',\n",
      "                   'REF_AREA': 'KOR+CAN+USA+CHN+GBR+DEU+FRA+JPN+ITA+IND+MEX+IRL',\n",
      "                   'SECTOR': 'S1M',\n",
      "                   'TABLE_IDENTIFIER': '',\n",
      "                   'TRANSACTION': 'P3',\n",
      "                   'TRANSFORMATION': '',\n",
      "                   'UNIT_MEASURE': 'USD_PPP'},\n",
      "             'EX': {'ACTIVITY': '',\n",
      "                    'ADJUSTMENT': '',\n",
      "                    'COUNTERPART_SECTOR': '',\n",
      "                    'EXPENDITURE': '',\n",
      "                    'FREQ': 'Q',\n",
      "                    'INSTR_ASSET': '',\n",
      "                    'PRICE_BASE': 'LR',\n",
      "                    'REF_AREA': 'KOR+CAN+USA+CHN+GBR+DEU+FRA+JPN+ITA+IND+MEX+IRL',\n",
      "                    'SECTOR': 'S1',\n",
      "                    'TABLE_IDENTIFIER': '',\n",
      "                    'TRANSACTION': 'P6',\n",
      "                    'TRANSFORMATION': '',\n",
      "                    'UNIT_MEASURE': 'USD_PPP'},\n",
      "             'G': {'ACTIVITY': '',\n",
      "                   'ADJUSTMENT': '',\n",
      "                   'COUNTERPART_SECTOR': '',\n",
      "                   'EXPENDITURE': '',\n",
      "                   'FREQ': 'Q',\n",
      "                   'INSTR_ASSET': '',\n",
      "                   'PRICE_BASE': 'LR',\n",
      "                   'REF_AREA': 'KOR+CAN+USA+CHN+GBR+DEU+FRA+JPN+ITA+IND+MEX+IRL',\n",
      "                   'SECTOR': 'S13',\n",
      "                   'TABLE_IDENTIFIER': '',\n",
      "                   'TRANSACTION': 'P3',\n",
      "                   'TRANSFORMATION': '',\n",
      "                   'UNIT_MEASURE': 'USD_PPP'},\n",
      "             'I': {'ACTIVITY': '',\n",
      "                   'ADJUSTMENT': '',\n",
      "                   'COUNTERPART_SECTOR': '',\n",
      "                   'EXPENDITURE': '',\n",
      "                   'FREQ': 'Q',\n",
      "                   'INSTR_ASSET': '',\n",
      "                   'PRICE_BASE': 'LR',\n",
      "                   'REF_AREA': 'KOR+CAN+USA+CHN+GBR+DEU+FRA+JPN+ITA+IND+MEX+IRL',\n",
      "                   'SECTOR': 'S1',\n",
      "                   'TABLE_IDENTIFIER': '',\n",
      "                   'TRANSACTION': 'P51G',\n",
      "                   'TRANSFORMATION': '',\n",
      "                   'UNIT_MEASURE': 'USD_PPP'},\n",
      "             'IM': {'ACTIVITY': '',\n",
      "                    'ADJUSTMENT': '',\n",
      "                    'COUNTERPART_SECTOR': '',\n",
      "                    'EXPENDITURE': '',\n",
      "                    'FREQ': 'Q',\n",
      "                    'INSTR_ASSET': '',\n",
      "                    'PRICE_BASE': 'LR',\n",
      "                    'REF_AREA': 'KOR+CAN+USA+CHN+GBR+DEU+FRA+JPN+ITA+IND+MEX+IRL',\n",
      "                    'SECTOR': 'S1',\n",
      "                    'TABLE_IDENTIFIER': '',\n",
      "                    'TRANSACTION': 'P7',\n",
      "                    'TRANSFORMATION': '',\n",
      "                    'UNIT_MEASURE': 'USD_PPP'},\n",
      "             'Y': {'ACTIVITY': '',\n",
      "                   'ADJUSTMENT': '',\n",
      "                   'COUNTERPART_SECTOR': '',\n",
      "                   'EXPENDITURE': '',\n",
      "                   'FREQ': 'Q',\n",
      "                   'INSTR_ASSET': '',\n",
      "                   'PRICE_BASE': 'LR',\n",
      "                   'REF_AREA': 'KOR+CAN+USA+CHN+GBR+DEU+FRA+JPN+ITA+IND+MEX+IRL',\n",
      "                   'SECTOR': 'S1',\n",
      "                   'TABLE_IDENTIFIER': '',\n",
      "                   'TRANSACTION': 'B1GQ',\n",
      "                   'TRANSFORMATION': '',\n",
      "                   'UNIT_MEASURE': 'USD_PPP'}}}\n"
     ]
    }
   ],
   "source": [
    "recipe_loader.show() # Only default recipe"
   ]
  },
  {
   "cell_type": "markdown",
   "id": "0d333a8e",
   "metadata": {},
   "source": [
    "##### From the following line, when you load recipe loader, it returns nested dictionary containing inforamtion about your dataset.\n",
    "\n",
    "- It also creates recipe.json file under the /conf/ directory. It is okay and recommanded to modify, add, delete the recipes from recipe.json for your own preprint.\n",
    "- However, it is NOT recommanded to modify the default recipe.\n",
    "- Last but not least, be aware of recipe's nested dictionary format. I know it's confusing but that was the best I could do."
   ]
  },
  {
   "cell_type": "code",
   "execution_count": 6,
   "id": "5c1f59c4",
   "metadata": {},
   "outputs": [
    {
     "name": "stderr",
     "output_type": "stream",
     "text": [
      "INFO:oecddatabuilder.recipe_loader:User configuration merged for group 'DEFAULT'.\n"
     ]
    },
    {
     "data": {
      "text/plain": [
       "{'Y': {'FREQ': 'Q',\n",
       "  'ADJUSTMENT': '',\n",
       "  'REF_AREA': 'KOR+CAN+USA+CHN+GBR+DEU+FRA+JPN+ITA+IND+MEX+IRL',\n",
       "  'SECTOR': 'S1',\n",
       "  'COUNTERPART_SECTOR': '',\n",
       "  'TRANSACTION': 'B1GQ',\n",
       "  'INSTR_ASSET': '',\n",
       "  'ACTIVITY': '',\n",
       "  'EXPENDITURE': '',\n",
       "  'UNIT_MEASURE': 'USD_PPP',\n",
       "  'PRICE_BASE': 'LR',\n",
       "  'TRANSFORMATION': '',\n",
       "  'TABLE_IDENTIFIER': ''},\n",
       " 'C': {'FREQ': 'Q',\n",
       "  'ADJUSTMENT': '',\n",
       "  'REF_AREA': 'KOR+CAN+USA+CHN+GBR+DEU+FRA+JPN+ITA+IND+MEX+IRL',\n",
       "  'SECTOR': 'S1M',\n",
       "  'COUNTERPART_SECTOR': '',\n",
       "  'TRANSACTION': 'P3',\n",
       "  'INSTR_ASSET': '',\n",
       "  'ACTIVITY': '',\n",
       "  'EXPENDITURE': '',\n",
       "  'UNIT_MEASURE': 'USD_PPP',\n",
       "  'PRICE_BASE': 'LR',\n",
       "  'TRANSFORMATION': '',\n",
       "  'TABLE_IDENTIFIER': ''},\n",
       " 'G': {'FREQ': 'Q',\n",
       "  'ADJUSTMENT': '',\n",
       "  'REF_AREA': 'KOR+CAN+USA+CHN+GBR+DEU+FRA+JPN+ITA+IND+MEX+IRL',\n",
       "  'SECTOR': 'S13',\n",
       "  'COUNTERPART_SECTOR': '',\n",
       "  'TRANSACTION': 'P3',\n",
       "  'INSTR_ASSET': '',\n",
       "  'ACTIVITY': '',\n",
       "  'EXPENDITURE': '',\n",
       "  'UNIT_MEASURE': 'USD_PPP',\n",
       "  'PRICE_BASE': 'LR',\n",
       "  'TRANSFORMATION': '',\n",
       "  'TABLE_IDENTIFIER': ''},\n",
       " 'I': {'FREQ': 'Q',\n",
       "  'ADJUSTMENT': '',\n",
       "  'REF_AREA': 'KOR+CAN+USA+CHN+GBR+DEU+FRA+JPN+ITA+IND+MEX+IRL',\n",
       "  'SECTOR': 'S1',\n",
       "  'COUNTERPART_SECTOR': '',\n",
       "  'TRANSACTION': 'P51G',\n",
       "  'INSTR_ASSET': '',\n",
       "  'ACTIVITY': '',\n",
       "  'EXPENDITURE': '',\n",
       "  'UNIT_MEASURE': 'USD_PPP',\n",
       "  'PRICE_BASE': 'LR',\n",
       "  'TRANSFORMATION': '',\n",
       "  'TABLE_IDENTIFIER': ''},\n",
       " 'EX': {'FREQ': 'Q',\n",
       "  'ADJUSTMENT': '',\n",
       "  'REF_AREA': 'KOR+CAN+USA+CHN+GBR+DEU+FRA+JPN+ITA+IND+MEX+IRL',\n",
       "  'SECTOR': 'S1',\n",
       "  'COUNTERPART_SECTOR': '',\n",
       "  'TRANSACTION': 'P6',\n",
       "  'INSTR_ASSET': '',\n",
       "  'ACTIVITY': '',\n",
       "  'EXPENDITURE': '',\n",
       "  'UNIT_MEASURE': 'USD_PPP',\n",
       "  'PRICE_BASE': 'LR',\n",
       "  'TRANSFORMATION': '',\n",
       "  'TABLE_IDENTIFIER': ''},\n",
       " 'IM': {'FREQ': 'Q',\n",
       "  'ADJUSTMENT': '',\n",
       "  'REF_AREA': 'KOR+CAN+USA+CHN+GBR+DEU+FRA+JPN+ITA+IND+MEX+IRL',\n",
       "  'SECTOR': 'S1',\n",
       "  'COUNTERPART_SECTOR': '',\n",
       "  'TRANSACTION': 'P7',\n",
       "  'INSTR_ASSET': '',\n",
       "  'ACTIVITY': '',\n",
       "  'EXPENDITURE': '',\n",
       "  'UNIT_MEASURE': 'USD_PPP',\n",
       "  'PRICE_BASE': 'LR',\n",
       "  'TRANSFORMATION': '',\n",
       "  'TABLE_IDENTIFIER': ''}}"
      ]
     },
     "execution_count": 6,
     "metadata": {},
     "output_type": "execute_result"
    }
   ],
   "source": [
    "default_recipe = recipe_loader.load(recipe_name=\"DEFAULT\")\n",
    "\n",
    "default_recipe"
   ]
  },
  {
   "cell_type": "markdown",
   "id": "8e4b5719",
   "metadata": {},
   "source": [
    "##### You can also update the recipe by using the following function.\n",
    "\n",
    "If you access OECD Data Explorer [webpage](https://data-explorer.oecd.org/) and query(search) for your needed data, it will have **developer api** section on the right."
   ]
  },
  {
   "cell_type": "markdown",
   "id": "318b2eae",
   "metadata": {},
   "source": [
    "![OECD_API_DEVELOPER](../docs/image/API_demo.png)"
   ]
  },
  {
   "cell_type": "markdown",
   "id": "d8ad8950",
   "metadata": {},
   "source": [
    "### WARNING: OECD API LIMITS\n",
    "\n",
    "##### Running the function ```update_recipe_from_url``` would create transactions as much as number of columns in the recipe.\n",
    "- This means if there are more than 20 columns, you cannot run it at once.\n",
    "- It also means that running it everytime would cost you the accessibility.\n",
    "- I strongly recommand you updating the recipe once in the beginning and later modfiy manually through ```recipe.json``` file.\n",
    "- You can generate your updated ```recipe.json``` with ```save()``` function.\n"
   ]
  },
  {
   "cell_type": "markdown",
   "id": "8c6926c9",
   "metadata": {},
   "source": [
    "##### Here, you can paste the copied link in the following format.\n",
    "\n",
    "- In nested dictionary format, you can designate the recipe name, and dictionaries of column name as a key and url link you copied as a value.\n",
    "\n",
    "- Each link **MUST** contain ONLY ONE transaction because multiple transactions would have different combinations of filters and will throw an error.\n",
    "\n",
    "- For instance, if you query multiple transactions in one link in the format of P3+D1+P5, there is a great chance that P3, D1, P5 would require different set of filters. This is why we require user to provide only one time series data for a variable.\n",
    "\n",
    "- FYI, I suggest you referring to [OECD API Documentation](../docs/OECD_API_documentation.pdf) for more information and understanding of API structure."
   ]
  },
  {
   "cell_type": "code",
   "execution_count": null,
   "id": "7e395a31",
   "metadata": {},
   "outputs": [],
   "source": [
    "recipe_loader.update_recipe_from_url(\"TUTORIAL\",\n",
    "                            {\"A\": \"https://sdmx.oecd.org/public/rest/data/OECD.SDD.NAD,DSD_NASEC1@DF_QSA,1.1/Q..AUT....P3.......?startPeriod=2023-Q3\",\n",
    "                             \"B\": \"https://sdmx.oecd.org/public/rest/data/OECD.SDD.NAD,DSD_NASEC1@DF_QSA,1.1/Q..AUT....D1.......?startPeriod=2023-Q3\",\n",
    "                             \"C\": \"https://sdmx.oecd.org/public/rest/data/OECD.SDD.NAD,DSD_NASEC1@DF_QSA,1.1/Q..AUT....P5.......?startPeriod=2023-Q3\"\n",
    "                             }\n",
    "                            )"
   ]
  },
  {
   "cell_type": "markdown",
   "id": "d177bc64",
   "metadata": {},
   "source": [
    "##### You can see that we now have another blueprint for the data **Tutorial**"
   ]
  },
  {
   "cell_type": "code",
   "execution_count": null,
   "id": "22e19e54",
   "metadata": {},
   "outputs": [],
   "source": [
    "new_recipe = recipe_loader.load(recipe_name=\"TUTORIAL\")\n",
    "\n",
    "new_recipe"
   ]
  },
  {
   "cell_type": "markdown",
   "id": "2ad608ce",
   "metadata": {},
   "source": [
    "#####  You can save the new recipe to ensure you will use it next time."
   ]
  },
  {
   "cell_type": "code",
   "execution_count": null,
   "id": "d87aee00",
   "metadata": {},
   "outputs": [],
   "source": [
    "recipe_loader.save()"
   ]
  },
  {
   "cell_type": "markdown",
   "id": "cd40a315",
   "metadata": {},
   "source": [
    "## Build Data\n",
    "\n",
    "##### Now you are almost there! you can build the data based on your recipe.\n",
    "\n",
    "- Current DEFAULT recipe contains QNA(Quarterly National Account) Dataset from OECD to construct the data for famous identity in economics\n",
    "$$\n",
    "Y = C + I + G + EX - IM\n",
    "$$\n",
    "\n",
    "- You can first load the recipe by calling load function of recipe loader class with your preferred recipe name."
   ]
  },
  {
   "cell_type": "code",
   "execution_count": null,
   "id": "d46305db",
   "metadata": {},
   "outputs": [],
   "source": [
    "default_recipe = recipe_loader.load(\"DEFAULT\")"
   ]
  },
  {
   "cell_type": "markdown",
   "id": "98141890",
   "metadata": {},
   "source": [
    "##### Before actually building the dataframe, you can check it with the function ```test_api_connection(recipe)```.\n",
    "\n",
    "- Issue here is that you must provide base url too in the testing. each transaction and table has different name in ```OECD.SDD.NAD,DSD_NASEC1@DF_QSA,1.1/``` part.\n",
    "- If you look at the [API explainer page](https://www.oecd.org/en/data/insights/data-explainers/2024/09/api.html) you can see the structure below.\n",
    "- It is important that you need to provide the correct base url to test and build the dataset.\n",
    "\n",
    "![url_structure](../docs/image/url_structure.png)"
   ]
  },
  {
   "cell_type": "code",
   "execution_count": null,
   "id": "82012677",
   "metadata": {},
   "outputs": [],
   "source": [
    "OECD_data.utils.test_recipe(new_recipe, base_url=\"https://sdmx.oecd.org/public/rest/data/OECD.SDD.NAD,DSD_NASEC1@DF_QSA,1.1/\")"
   ]
  },
  {
   "cell_type": "markdown",
   "id": "ce8ba80d",
   "metadata": {},
   "source": [
    "##### Here, you are encouraged to have large request interval and small chunk size because there's API limits.\n",
    "\n",
    "For the below code, it took 18m and 49.3s to execute and interval of 1 request per minute."
   ]
  },
  {
   "cell_type": "code",
   "execution_count": null,
   "id": "2075fb70",
   "metadata": {},
   "outputs": [],
   "source": [
    "API = OECD_data.OECDAPI_Databuilder(config=default_recipe, start=\"1990-Q1\", end=\"2024-Q4\", freq=\"Q\", response_format=\"csv\",\n",
    "                                    dbpath=\"../datasets/OECD\",\n",
    "                                    base_url=\"https://sdmx.oecd.org/public/rest/data/OECD.SDD.NAD,DSD_NAMAIN1@DF_QNA,1.1/\", request_interval=60)"
   ]
  },
  {
   "cell_type": "code",
   "execution_count": null,
   "id": "07876747",
   "metadata": {},
   "outputs": [],
   "source": [
    "API.fetch_data(chunk_size=50) # This takes long time"
   ]
  },
  {
   "cell_type": "markdown",
   "id": "843db828",
   "metadata": {},
   "source": [
    "## Now finally! We have fetched all the dataset.\n",
    "\n",
    "- We can aggregate these data to create one dataframe that we designed from the beginning in the 'recipe'.\n",
    "- Data would consist of 'date', 'country', and all the other indicator value columns."
   ]
  },
  {
   "cell_type": "code",
   "execution_count": null,
   "id": "ef3e5be7",
   "metadata": {},
   "outputs": [],
   "source": [
    "df = API.create_dataframe()"
   ]
  },
  {
   "cell_type": "code",
   "execution_count": null,
   "id": "ee187895",
   "metadata": {},
   "outputs": [],
   "source": [
    "df.head()"
   ]
  },
  {
   "cell_type": "code",
   "execution_count": null,
   "id": "3dc1fd07",
   "metadata": {},
   "outputs": [],
   "source": [
    "df.to_csv(\"keynsian.csv\")"
   ]
  },
  {
   "cell_type": "code",
   "execution_count": null,
   "id": "00a2b429",
   "metadata": {},
   "outputs": [],
   "source": [
    "df.describe()"
   ]
  },
  {
   "cell_type": "markdown",
   "id": "7bc2d8f6",
   "metadata": {},
   "source": [
    "# Congratulations! You have created your own dataset for economic analysis from OECD API\n",
    "\n",
    "There's always room for improvement so I am open to any pull requests, forks, suggestions!\n",
    "\n",
    "Happy downloading OECD API datasets! (Sounds like LLM but all written by myself.)"
   ]
  }
 ],
 "metadata": {
  "kernelspec": {
   "display_name": "oecddatabuilder-JsEVO9Jv-py3.11",
   "language": "python",
   "name": "python3"
  },
  "language_info": {
   "codemirror_mode": {
    "name": "ipython",
    "version": 3
   },
   "file_extension": ".py",
   "mimetype": "text/x-python",
   "name": "python",
   "nbconvert_exporter": "python",
   "pygments_lexer": "ipython3",
   "version": "3.11.7"
  }
 },
 "nbformat": 4,
 "nbformat_minor": 5
}
