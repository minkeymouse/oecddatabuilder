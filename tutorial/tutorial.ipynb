{
 "cells": [
  {
   "cell_type": "code",
   "execution_count": 1,
   "id": "1c71b5f1",
   "metadata": {},
   "outputs": [],
   "source": [
    "import oecddatabuilder as OECD_data"
   ]
  },
  {
   "cell_type": "code",
   "execution_count": 2,
   "id": "d2163c59",
   "metadata": {},
   "outputs": [
    {
     "name": "stderr",
     "output_type": "stream",
     "text": [
      "INFO:oecddatabuilder.utils:API connection successful.\n"
     ]
    }
   ],
   "source": [
    "OECD_data.utils.test_api_connection()"
   ]
  },
  {
   "cell_type": "code",
   "execution_count": 5,
   "id": "1154e85c",
   "metadata": {},
   "outputs": [
    {
     "name": "stderr",
     "output_type": "stream",
     "text": [
      "INFO:oecddatabuilder.recipe_loader:Atomic write successful to /Users/minkeychang/oecddatabuilder/config/recipe.json\n",
      "INFO:oecddatabuilder.recipe_loader:User configuration updated successfully in /Users/minkeychang/oecddatabuilder/config/recipe.json.\n"
     ]
    }
   ],
   "source": [
    "recipe_loader = OECD_data.RecipeLoader()"
   ]
  },
  {
   "cell_type": "code",
   "execution_count": 4,
   "id": "7e395a31",
   "metadata": {},
   "outputs": [
    {
     "name": "stderr",
     "output_type": "stream",
     "text": [
      "INFO:oecddatabuilder.recipe_loader:Indicator 'A' not found in group 'QSA'. Creating new entry.\n",
      "INFO:oecddatabuilder.recipe_loader:Updated indicator 'A' with URL: https://sdmx.oecd.org/public/rest/data/OECD.SDD.NAD,DSD_NASEC1@DF_QSA,1.1/Q..AUT....P3.......?startPeriod=2023-Q3\n",
      "ERROR:oecddatabuilder.recipe_loader:Failed to update metadata for 'A' from URL https://sdmx.oecd.org/public/rest/data/OECD.SDD.NAD,DSD_NASEC1@DF_QSA,1.1/Q..AUT....P3.......?startPeriod=2023-Q3: invalid predicate\n",
      "INFO:oecddatabuilder.recipe_loader:Indicator 'B' not found in group 'QSA'. Creating new entry.\n",
      "INFO:oecddatabuilder.recipe_loader:Updated indicator 'B' with URL: https://sdmx.oecd.org/public/rest/data/OECD.SDD.NAD,DSD_NASEC1@DF_QSA,1.1/Q..AUT....D1.......?startPeriod=2023-Q3\n",
      "ERROR:oecddatabuilder.recipe_loader:Failed to update metadata for 'B' from URL https://sdmx.oecd.org/public/rest/data/OECD.SDD.NAD,DSD_NASEC1@DF_QSA,1.1/Q..AUT....D1.......?startPeriod=2023-Q3: invalid predicate\n",
      "INFO:oecddatabuilder.recipe_loader:Indicator 'C' not found in group 'QSA'. Creating new entry.\n",
      "INFO:oecddatabuilder.recipe_loader:Updated indicator 'C' with URL: https://sdmx.oecd.org/public/rest/data/OECD.SDD.NAD,DSD_NASEC1@DF_QSA,1.1/Q..AUT....P5.......?startPeriod=2023-Q3\n",
      "ERROR:oecddatabuilder.recipe_loader:Failed to update metadata for 'C' from URL https://sdmx.oecd.org/public/rest/data/OECD.SDD.NAD,DSD_NASEC1@DF_QSA,1.1/Q..AUT....P5.......?startPeriod=2023-Q3: 429 Client Error: Too Many Requests for url: https://sdmx.oecd.org/public/rest/data/OECD.SDD.NAD,DSD_NASEC1@DF_QSA,1.1/Q..AUT....P5.......?startPeriod=2023-Q3\n",
      "INFO:oecddatabuilder.recipe_loader:Atomic write successful to /Users/minkeychang/oecddatabuilder/config/recipe.json\n",
      "INFO:oecddatabuilder.recipe_loader:Recipe group 'QSA' updated successfully in /Users/minkeychang/oecddatabuilder/config/recipe.json.\n",
      "INFO:oecddatabuilder.recipe_loader:Recipe update completed successfully.\n"
     ]
    }
   ],
   "source": [
    "recipe_loader.update_recipe_from_url(\"QSA\",\n",
    "                            {\"A\": \"https://sdmx.oecd.org/public/rest/data/OECD.SDD.NAD,DSD_NASEC1@DF_QSA,1.1/Q..AUT....P3.......?startPeriod=2023-Q3\",\n",
    "                             \"B\": \"https://sdmx.oecd.org/public/rest/data/OECD.SDD.NAD,DSD_NASEC1@DF_QSA,1.1/Q..AUT....D1.......?startPeriod=2023-Q3\",\n",
    "                             \"C\": \"https://sdmx.oecd.org/public/rest/data/OECD.SDD.NAD,DSD_NASEC1@DF_QSA,1.1/Q..AUT....P5.......?startPeriod=2023-Q3\"\n",
    "                             }\n",
    "                            )"
   ]
  },
  {
   "cell_type": "code",
   "execution_count": null,
   "id": "d46305db",
   "metadata": {},
   "outputs": [],
   "source": [
    "\n",
    "default = recipe_loader.load(\"DEFAULT\")\n",
    "QSA = recipe_loader.load(\"QSA\")"
   ]
  },
  {
   "cell_type": "code",
   "execution_count": null,
   "id": "eeb8cc74",
   "metadata": {},
   "outputs": [],
   "source": [
    "API_QNA = OECD_data.OECDAPI_Databuilder(recipe=QNA, start = \"2024-Q1\", end = \"2024-Q4\", freq = \"Q\",\n",
    "                          dbpath=\"../datasets/OECD/\",\n",
    "                          base_url=\"https://sdmx.oecd.org/public/rest/data/OECD.SDD.NAD,DSD_NAMAIN1@DF_QNA,1.1/\")"
   ]
  },
  {
   "cell_type": "code",
   "execution_count": null,
   "id": "1a83f95b",
   "metadata": {},
   "outputs": [],
   "source": [
    "API_QNA.fetch_data(chunk_size = 100)"
   ]
  },
  {
   "cell_type": "code",
   "execution_count": null,
   "id": "d8ea36e6",
   "metadata": {},
   "outputs": [],
   "source": [
    "df_QNA = API_QNA.create_dataframe()"
   ]
  },
  {
   "cell_type": "code",
   "execution_count": null,
   "id": "0fee747a",
   "metadata": {},
   "outputs": [],
   "source": [
    "API_QSA = OECD_data.OECDAPI_Databuilder(recipe=QSA, start = \"2024-Q1\", end = \"2024-Q4\", freq = \"Q\",\n",
    "                          dbpath=\"../datasets/OECD/\",\n",
    "                          base_url=\"https://sdmx.oecd.org/public/rest/data/OECD.SDD.NAD,DSD_NASEC1@DF_QSA,1.1/\")"
   ]
  },
  {
   "cell_type": "code",
   "execution_count": null,
   "id": "a831d2e4",
   "metadata": {},
   "outputs": [],
   "source": [
    "df_QSA = API_QSA.create_dataframe"
   ]
  },
  {
   "cell_type": "code",
   "execution_count": null,
   "id": "82012677",
   "metadata": {},
   "outputs": [],
   "source": []
  },
  {
   "cell_type": "code",
   "execution_count": null,
   "id": "2075fb70",
   "metadata": {},
   "outputs": [],
   "source": []
  },
  {
   "cell_type": "code",
   "execution_count": null,
   "id": "07876747",
   "metadata": {},
   "outputs": [],
   "source": []
  }
 ],
 "metadata": {
  "kernelspec": {
   "display_name": "oecddatabuilder-JsEVO9Jv-py3.11",
   "language": "python",
   "name": "python3"
  },
  "language_info": {
   "codemirror_mode": {
    "name": "ipython",
    "version": 3
   },
   "file_extension": ".py",
   "mimetype": "text/x-python",
   "name": "python",
   "nbconvert_exporter": "python",
   "pygments_lexer": "ipython3",
   "version": "3.11.7"
  }
 },
 "nbformat": 4,
 "nbformat_minor": 5
}
