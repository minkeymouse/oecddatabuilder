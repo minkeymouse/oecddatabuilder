{
 "cells": [
  {
   "cell_type": "code",
   "execution_count": 1,
   "id": "1c71b5f1",
   "metadata": {},
   "outputs": [],
   "source": [
    "from oecddatabuilder import OECDAPI_Databuilder\n",
    "from recipe import QNADATA"
   ]
  },
  {
   "cell_type": "code",
   "execution_count": 2,
   "id": "d46305db",
   "metadata": {},
   "outputs": [
    {
     "data": {
      "text/plain": [
       "{'FREQ': 'Q',\n",
       " 'ADJUSTMENT': '',\n",
       " 'REF_AREA': 'KOR+CAN+USA+CHN+GBR+DEU+FRA+JPN+ITA+IND+MEX+IRL',\n",
       " 'SECTOR': 'S1',\n",
       " 'COUNTERPART_SECTOR': '',\n",
       " 'TRANSACTION': 'B1GQ',\n",
       " 'INSTR_ASSET': '',\n",
       " 'ACTIVITY': '',\n",
       " 'EXPENDITURE': '',\n",
       " 'UNIT_MEASURE': 'USD_PPP',\n",
       " 'PRICE_BASE': 'LR',\n",
       " 'TRANSFORMATION': '',\n",
       " 'TABLE_IDENTIFIER': ''}"
      ]
     },
     "execution_count": 2,
     "metadata": {},
     "output_type": "execute_result"
    }
   ],
   "source": [
    "QNADATA[\"real_gdp\"]"
   ]
  },
  {
   "cell_type": "code",
   "execution_count": 3,
   "id": "eeb8cc74",
   "metadata": {},
   "outputs": [
    {
     "name": "stdout",
     "output_type": "stream",
     "text": [
      "Combined countries from configuration: ['CAN', 'CHN', 'DEU', 'FRA', 'GBR', 'IND', 'IRL', 'ITA', 'JPN', 'KOR', 'MEX', 'USA']\n"
     ]
    }
   ],
   "source": [
    "API = OECDAPI_Databuilder(config=QNADATA, start = \"1990-Q1\", end = \"2024-Q4\", freq = \"Q\",\n",
    "                          dbpath=\"../datasets/OECD/\",\n",
    "                          base_url=\"https://sdmx.oecd.org/public/rest/data/OECD.SDD.NAD,DSD_NAMAIN1@DF_QNA,1.1/\")"
   ]
  },
  {
   "cell_type": "code",
   "execution_count": null,
   "id": "35d05e30",
   "metadata": {},
   "outputs": [],
   "source": [
    "API.update_config(urls=user_urls)"
   ]
  },
  {
   "cell_type": "markdown",
   "id": "47e52a35",
   "metadata": {},
   "source": []
  },
  {
   "cell_type": "code",
   "execution_count": 4,
   "id": "b7b098b3",
   "metadata": {},
   "outputs": [
    {
     "name": "stdout",
     "output_type": "stream",
     "text": [
      "\n",
      "For indicator 'real_gdp', time chunks to process: [('1990-Q1', '2014-Q4'), ('2015-Q1', '2024-Q4')]\n",
      "Fetching data for 'real_gdp' using URL: https://sdmx.oecd.org/public/rest/data/OECD.SDD.NAD,DSD_NAMAIN1@DF_QNA,1.1/Q..KOR+CAN+USA+CHN+GBR+DEU+FRA+JPN+ITA+IND+MEX+IRL.S1..B1GQ....USD_PPP.LR..\n"
     ]
    },
    {
     "name": "stderr",
     "output_type": "stream",
     "text": [
      "Downloading real_gdp Data:   0%|          | 0/2 [00:00<?, ?it/s]"
     ]
    },
    {
     "name": "stdout",
     "output_type": "stream",
     "text": [
      "  Chunk 1990-Q1 to 2014-Q4: 1075 rows\n"
     ]
    },
    {
     "name": "stderr",
     "output_type": "stream",
     "text": [
      "Downloading real_gdp Data:  50%|█████     | 1/2 [00:08<00:08,  8.24s/it]"
     ]
    },
    {
     "name": "stdout",
     "output_type": "stream",
     "text": [
      "  Chunk 2015-Q1 to 2024-Q4: 440 rows\n"
     ]
    },
    {
     "name": "stderr",
     "output_type": "stream",
     "text": [
      "Downloading real_gdp Data: 100%|██████████| 2/2 [00:15<00:00,  7.71s/it]\n"
     ]
    },
    {
     "name": "stdout",
     "output_type": "stream",
     "text": [
      "Data for indicator 'real_gdp' saved to ../datasets/OECD/real_gdp.csv\n",
      "\n",
      "For indicator 'consumption_household', time chunks to process: [('1990-Q1', '2014-Q4'), ('2015-Q1', '2024-Q4')]\n",
      "Fetching data for 'consumption_household' using URL: https://sdmx.oecd.org/public/rest/data/OECD.SDD.NAD,DSD_NAMAIN1@DF_QNA,1.1/Q..KOR+CAN+USA+CHN+GBR+DEU+FRA+JPN+ITA+IND+MEX+IRL.S1M..P3....USD_PPP.LR..\n"
     ]
    },
    {
     "name": "stderr",
     "output_type": "stream",
     "text": [
      "Downloading consumption_household Data:   0%|          | 0/2 [00:00<?, ?it/s]"
     ]
    },
    {
     "name": "stdout",
     "output_type": "stream",
     "text": [
      "  Chunk 1990-Q1 to 2014-Q4: 1075 rows\n"
     ]
    },
    {
     "name": "stderr",
     "output_type": "stream",
     "text": [
      "Downloading consumption_household Data:  50%|█████     | 1/2 [00:08<00:08,  8.36s/it]"
     ]
    },
    {
     "name": "stdout",
     "output_type": "stream",
     "text": [
      "Error for chunk 2015-Q1 to 2024-Q4 for indicator 'consumption_household': 429 Client Error: Too Many Requests for url: https://sdmx.oecd.org/public/rest/data/OECD.SDD.NAD,DSD_NAMAIN1@DF_QNA,1.1/Q..KOR+CAN+USA+CHN+GBR+DEU+FRA+JPN+ITA+IND+MEX+IRL.S1M..P3....USD_PPP.LR..?startPeriod=2015-Q1&endPeriod=2024-Q4&dimensionAtObservation=TIME_PERIOD\n"
     ]
    },
    {
     "name": "stderr",
     "output_type": "stream",
     "text": [
      "Downloading consumption_household Data: 100%|██████████| 2/2 [00:13<00:00,  6.71s/it]\n"
     ]
    },
    {
     "name": "stdout",
     "output_type": "stream",
     "text": [
      "Data for indicator 'consumption_household' saved to ../datasets/OECD/consumption_household.csv\n",
      "\n",
      "For indicator 'consumption_gov', time chunks to process: [('1990-Q1', '2014-Q4'), ('2015-Q1', '2024-Q4')]\n",
      "Fetching data for 'consumption_gov' using URL: https://sdmx.oecd.org/public/rest/data/OECD.SDD.NAD,DSD_NAMAIN1@DF_QNA,1.1/Q..KOR+CAN+USA+CHN+GBR+DEU+FRA+JPN+ITA+IND+MEX+IRL.S13..P3....USD_PPP.LR..\n"
     ]
    },
    {
     "name": "stderr",
     "output_type": "stream",
     "text": [
      "Downloading consumption_gov Data:   0%|          | 0/2 [00:00<?, ?it/s]"
     ]
    },
    {
     "name": "stdout",
     "output_type": "stream",
     "text": [
      "Error for chunk 1990-Q1 to 2014-Q4 for indicator 'consumption_gov': 429 Client Error: Too Many Requests for url: https://sdmx.oecd.org/public/rest/data/OECD.SDD.NAD,DSD_NAMAIN1@DF_QNA,1.1/Q..KOR+CAN+USA+CHN+GBR+DEU+FRA+JPN+ITA+IND+MEX+IRL.S13..P3....USD_PPP.LR..?startPeriod=1990-Q1&endPeriod=2014-Q4&dimensionAtObservation=TIME_PERIOD\n"
     ]
    },
    {
     "name": "stderr",
     "output_type": "stream",
     "text": [
      "Downloading consumption_gov Data:  50%|█████     | 1/2 [00:05<00:05,  5.04s/it]"
     ]
    },
    {
     "name": "stdout",
     "output_type": "stream",
     "text": [
      "Error for chunk 2015-Q1 to 2024-Q4 for indicator 'consumption_gov': 429 Client Error: Too Many Requests for url: https://sdmx.oecd.org/public/rest/data/OECD.SDD.NAD,DSD_NAMAIN1@DF_QNA,1.1/Q..KOR+CAN+USA+CHN+GBR+DEU+FRA+JPN+ITA+IND+MEX+IRL.S13..P3....USD_PPP.LR..?startPeriod=2015-Q1&endPeriod=2024-Q4&dimensionAtObservation=TIME_PERIOD\n"
     ]
    },
    {
     "name": "stderr",
     "output_type": "stream",
     "text": [
      "Downloading consumption_gov Data: 100%|██████████| 2/2 [00:10<00:00,  5.05s/it]\n"
     ]
    },
    {
     "name": "stdout",
     "output_type": "stream",
     "text": [
      "Data for indicator 'consumption_gov' saved to ../datasets/OECD/consumption_gov.csv\n",
      "\n",
      "For indicator 'capital', time chunks to process: [('1990-Q1', '2014-Q4'), ('2015-Q1', '2024-Q4')]\n",
      "Fetching data for 'capital' using URL: https://sdmx.oecd.org/public/rest/data/OECD.SDD.NAD,DSD_NAMAIN1@DF_QNA,1.1/Q..KOR+CAN+USA+CHN+GBR+DEU+FRA+JPN+ITA+IND+MEX+IRL.S1..P51G....USD_PPP.LR..\n"
     ]
    },
    {
     "name": "stderr",
     "output_type": "stream",
     "text": [
      "Downloading capital Data:   0%|          | 0/2 [00:00<?, ?it/s]"
     ]
    },
    {
     "name": "stdout",
     "output_type": "stream",
     "text": [
      "Error for chunk 1990-Q1 to 2014-Q4 for indicator 'capital': 429 Client Error: Too Many Requests for url: https://sdmx.oecd.org/public/rest/data/OECD.SDD.NAD,DSD_NAMAIN1@DF_QNA,1.1/Q..KOR+CAN+USA+CHN+GBR+DEU+FRA+JPN+ITA+IND+MEX+IRL.S1..P51G....USD_PPP.LR..?startPeriod=1990-Q1&endPeriod=2014-Q4&dimensionAtObservation=TIME_PERIOD\n"
     ]
    },
    {
     "name": "stderr",
     "output_type": "stream",
     "text": [
      "Downloading capital Data:  50%|█████     | 1/2 [00:05<00:05,  5.07s/it]"
     ]
    },
    {
     "name": "stdout",
     "output_type": "stream",
     "text": [
      "Error for chunk 2015-Q1 to 2024-Q4 for indicator 'capital': 429 Client Error: Too Many Requests for url: https://sdmx.oecd.org/public/rest/data/OECD.SDD.NAD,DSD_NAMAIN1@DF_QNA,1.1/Q..KOR+CAN+USA+CHN+GBR+DEU+FRA+JPN+ITA+IND+MEX+IRL.S1..P51G....USD_PPP.LR..?startPeriod=2015-Q1&endPeriod=2024-Q4&dimensionAtObservation=TIME_PERIOD\n"
     ]
    },
    {
     "name": "stderr",
     "output_type": "stream",
     "text": [
      "Downloading capital Data: 100%|██████████| 2/2 [00:10<00:00,  5.07s/it]\n"
     ]
    },
    {
     "name": "stdout",
     "output_type": "stream",
     "text": [
      "Data for indicator 'capital' saved to ../datasets/OECD/capital.csv\n",
      "\n",
      "For indicator 'export', time chunks to process: [('1990-Q1', '2014-Q4'), ('2015-Q1', '2024-Q4')]\n",
      "Fetching data for 'export' using URL: https://sdmx.oecd.org/public/rest/data/OECD.SDD.NAD,DSD_NAMAIN1@DF_QNA,1.1/Q..KOR+CAN+USA+CHN+GBR+DEU+FRA+JPN+ITA+IND+MEX+IRL.S1..P6....USD_PPP.LR..\n"
     ]
    },
    {
     "name": "stderr",
     "output_type": "stream",
     "text": [
      "Downloading export Data:   0%|          | 0/2 [00:00<?, ?it/s]"
     ]
    },
    {
     "name": "stdout",
     "output_type": "stream",
     "text": [
      "Error for chunk 1990-Q1 to 2014-Q4 for indicator 'export': 429 Client Error: Too Many Requests for url: https://sdmx.oecd.org/public/rest/data/OECD.SDD.NAD,DSD_NAMAIN1@DF_QNA,1.1/Q..KOR+CAN+USA+CHN+GBR+DEU+FRA+JPN+ITA+IND+MEX+IRL.S1..P6....USD_PPP.LR..?startPeriod=1990-Q1&endPeriod=2014-Q4&dimensionAtObservation=TIME_PERIOD\n"
     ]
    },
    {
     "name": "stderr",
     "output_type": "stream",
     "text": [
      "Downloading export Data:  50%|█████     | 1/2 [00:05<00:05,  5.04s/it]"
     ]
    },
    {
     "name": "stdout",
     "output_type": "stream",
     "text": [
      "Error for chunk 2015-Q1 to 2024-Q4 for indicator 'export': 429 Client Error: Too Many Requests for url: https://sdmx.oecd.org/public/rest/data/OECD.SDD.NAD,DSD_NAMAIN1@DF_QNA,1.1/Q..KOR+CAN+USA+CHN+GBR+DEU+FRA+JPN+ITA+IND+MEX+IRL.S1..P6....USD_PPP.LR..?startPeriod=2015-Q1&endPeriod=2024-Q4&dimensionAtObservation=TIME_PERIOD\n"
     ]
    },
    {
     "name": "stderr",
     "output_type": "stream",
     "text": [
      "Downloading export Data:  50%|█████     | 1/2 [00:06<00:06,  6.34s/it]\n"
     ]
    },
    {
     "ename": "KeyboardInterrupt",
     "evalue": "",
     "output_type": "error",
     "traceback": [
      "\u001b[0;31m---------------------------------------------------------------------------\u001b[0m",
      "\u001b[0;31mKeyboardInterrupt\u001b[0m                         Traceback (most recent call last)",
      "Cell \u001b[0;32mIn[4], line 1\u001b[0m\n\u001b[0;32m----> 1\u001b[0m \u001b[43mAPI\u001b[49m\u001b[38;5;241;43m.\u001b[39;49m\u001b[43mfetch_data\u001b[49m\u001b[43m(\u001b[49m\u001b[43m)\u001b[49m\n",
      "File \u001b[0;32m~/forecasting/modules/oecddatabuilder.py:132\u001b[0m, in \u001b[0;36mOECDAPI_Databuilder.fetch_data\u001b[0;34m(self, chunk_size)\u001b[0m\n\u001b[1;32m    130\u001b[0m     \u001b[38;5;28;01mexcept\u001b[39;00m \u001b[38;5;167;01mException\u001b[39;00m \u001b[38;5;28;01mas\u001b[39;00m e:\n\u001b[1;32m    131\u001b[0m         \u001b[38;5;28mprint\u001b[39m(\u001b[38;5;124mf\u001b[39m\u001b[38;5;124m\"\u001b[39m\u001b[38;5;124mError for chunk \u001b[39m\u001b[38;5;132;01m{\u001b[39;00mchunk_start\u001b[38;5;132;01m}\u001b[39;00m\u001b[38;5;124m to \u001b[39m\u001b[38;5;132;01m{\u001b[39;00mchunk_end\u001b[38;5;132;01m}\u001b[39;00m\u001b[38;5;124m for indicator \u001b[39m\u001b[38;5;124m'\u001b[39m\u001b[38;5;132;01m{\u001b[39;00mindicator\u001b[38;5;132;01m}\u001b[39;00m\u001b[38;5;124m'\u001b[39m\u001b[38;5;124m: \u001b[39m\u001b[38;5;132;01m{\u001b[39;00me\u001b[38;5;132;01m}\u001b[39;00m\u001b[38;5;124m\"\u001b[39m)\n\u001b[0;32m--> 132\u001b[0m     \u001b[43mtime\u001b[49m\u001b[38;5;241;43m.\u001b[39;49m\u001b[43msleep\u001b[49m\u001b[43m(\u001b[49m\u001b[38;5;241;43m5\u001b[39;49m\u001b[43m)\u001b[49m  \u001b[38;5;66;03m# Pause between requests to avoid rate limiting.\u001b[39;00m\n\u001b[1;32m    134\u001b[0m \u001b[38;5;66;03m# Concatenate data for this indicator.\u001b[39;00m\n\u001b[1;32m    135\u001b[0m \u001b[38;5;28;01mif\u001b[39;00m all_chunks:\n",
      "\u001b[0;31mKeyboardInterrupt\u001b[0m: "
     ]
    }
   ],
   "source": [
    "API.fetch_data()"
   ]
  },
  {
   "cell_type": "code",
   "execution_count": 5,
   "id": "d8ea36e6",
   "metadata": {},
   "outputs": [],
   "source": [
    "df = API.create_dataframe()"
   ]
  },
  {
   "cell_type": "code",
   "execution_count": 6,
   "id": "0fee747a",
   "metadata": {},
   "outputs": [
    {
     "data": {
      "text/html": [
       "<div>\n",
       "<style scoped>\n",
       "    .dataframe tbody tr th:only-of-type {\n",
       "        vertical-align: middle;\n",
       "    }\n",
       "\n",
       "    .dataframe tbody tr th {\n",
       "        vertical-align: top;\n",
       "    }\n",
       "\n",
       "    .dataframe thead th {\n",
       "        text-align: right;\n",
       "    }\n",
       "</style>\n",
       "<table border=\"1\" class=\"dataframe\">\n",
       "  <thead>\n",
       "    <tr style=\"text-align: right;\">\n",
       "      <th></th>\n",
       "      <th>country</th>\n",
       "      <th>date</th>\n",
       "      <th>real_gdp</th>\n",
       "      <th>consumption_household</th>\n",
       "      <th>consumption_gov</th>\n",
       "      <th>capital</th>\n",
       "      <th>export</th>\n",
       "      <th>import</th>\n",
       "      <th>real_gdp_per</th>\n",
       "      <th>population</th>\n",
       "      <th>employment</th>\n",
       "    </tr>\n",
       "  </thead>\n",
       "  <tbody>\n",
       "    <tr>\n",
       "      <th>0</th>\n",
       "      <td>CAN</td>\n",
       "      <td>2019-Q1</td>\n",
       "      <td>1925947.3</td>\n",
       "      <td>1113379.2</td>\n",
       "      <td>411846.2</td>\n",
       "      <td>442100.1</td>\n",
       "      <td>586462.3</td>\n",
       "      <td>652704.8</td>\n",
       "      <td>51582.9</td>\n",
       "      <td>NaN</td>\n",
       "      <td>NaN</td>\n",
       "    </tr>\n",
       "    <tr>\n",
       "      <th>1</th>\n",
       "      <td>DEU</td>\n",
       "      <td>2019-Q1</td>\n",
       "      <td>5088886.9</td>\n",
       "      <td>2642070.2</td>\n",
       "      <td>1026564.8</td>\n",
       "      <td>1076343.1</td>\n",
       "      <td>2136978.2</td>\n",
       "      <td>1799268.2</td>\n",
       "      <td>61281.6</td>\n",
       "      <td>NaN</td>\n",
       "      <td>NaN</td>\n",
       "    </tr>\n",
       "    <tr>\n",
       "      <th>2</th>\n",
       "      <td>FRA</td>\n",
       "      <td>2019-Q1</td>\n",
       "      <td>3606076.5</td>\n",
       "      <td>1907303.7</td>\n",
       "      <td>884166.0</td>\n",
       "      <td>786109.2</td>\n",
       "      <td>1160656.3</td>\n",
       "      <td>1166065.9</td>\n",
       "      <td>53577.4</td>\n",
       "      <td>NaN</td>\n",
       "      <td>NaN</td>\n",
       "    </tr>\n",
       "    <tr>\n",
       "      <th>3</th>\n",
       "      <td>GBR</td>\n",
       "      <td>2019-Q1</td>\n",
       "      <td>3567550.1</td>\n",
       "      <td>2197714.7</td>\n",
       "      <td>771084.2</td>\n",
       "      <td>627165.9</td>\n",
       "      <td>1051214.6</td>\n",
       "      <td>1198321.2</td>\n",
       "      <td>53611.1</td>\n",
       "      <td>NaN</td>\n",
       "      <td>NaN</td>\n",
       "    </tr>\n",
       "    <tr>\n",
       "      <th>4</th>\n",
       "      <td>IND</td>\n",
       "      <td>2019-Q1</td>\n",
       "      <td>9949407.1</td>\n",
       "      <td>6087948.5</td>\n",
       "      <td>963546.3</td>\n",
       "      <td>2791087.6</td>\n",
       "      <td>2009513.9</td>\n",
       "      <td>2087098.3</td>\n",
       "      <td>NaN</td>\n",
       "      <td>NaN</td>\n",
       "      <td>NaN</td>\n",
       "    </tr>\n",
       "    <tr>\n",
       "      <th>...</th>\n",
       "      <td>...</td>\n",
       "      <td>...</td>\n",
       "      <td>...</td>\n",
       "      <td>...</td>\n",
       "      <td>...</td>\n",
       "      <td>...</td>\n",
       "      <td>...</td>\n",
       "      <td>...</td>\n",
       "      <td>...</td>\n",
       "      <td>...</td>\n",
       "      <td>...</td>\n",
       "    </tr>\n",
       "    <tr>\n",
       "      <th>72</th>\n",
       "      <td>ITA</td>\n",
       "      <td>2020-Q3</td>\n",
       "      <td>2727738.9</td>\n",
       "      <td>1600093.4</td>\n",
       "      <td>549045.8</td>\n",
       "      <td>518848.9</td>\n",
       "      <td>780691.8</td>\n",
       "      <td>665004.8</td>\n",
       "      <td>45931.8</td>\n",
       "      <td>NaN</td>\n",
       "      <td>NaN</td>\n",
       "    </tr>\n",
       "    <tr>\n",
       "      <th>73</th>\n",
       "      <td>JPN</td>\n",
       "      <td>2020-Q3</td>\n",
       "      <td>5363688.0</td>\n",
       "      <td>2895429.5</td>\n",
       "      <td>1132952.3</td>\n",
       "      <td>1342293.4</td>\n",
       "      <td>809771.2</td>\n",
       "      <td>800849.0</td>\n",
       "      <td>42667.8</td>\n",
       "      <td>NaN</td>\n",
       "      <td>NaN</td>\n",
       "    </tr>\n",
       "    <tr>\n",
       "      <th>74</th>\n",
       "      <td>KOR</td>\n",
       "      <td>2020-Q3</td>\n",
       "      <td>2481944.3</td>\n",
       "      <td>1194484.5</td>\n",
       "      <td>424414.4</td>\n",
       "      <td>770516.6</td>\n",
       "      <td>875129.7</td>\n",
       "      <td>775240.4</td>\n",
       "      <td>47880.0</td>\n",
       "      <td>NaN</td>\n",
       "      <td>NaN</td>\n",
       "    </tr>\n",
       "    <tr>\n",
       "      <th>75</th>\n",
       "      <td>MEX</td>\n",
       "      <td>2020-Q3</td>\n",
       "      <td>2463584.0</td>\n",
       "      <td>1599904.6</td>\n",
       "      <td>298555.7</td>\n",
       "      <td>485396.8</td>\n",
       "      <td>1026267.0</td>\n",
       "      <td>893180.9</td>\n",
       "      <td>19466.6</td>\n",
       "      <td>NaN</td>\n",
       "      <td>NaN</td>\n",
       "    </tr>\n",
       "    <tr>\n",
       "      <th>76</th>\n",
       "      <td>USA</td>\n",
       "      <td>2020-Q3</td>\n",
       "      <td>21650388.2</td>\n",
       "      <td>14454073.2</td>\n",
       "      <td>3175846.0</td>\n",
       "      <td>4613331.2</td>\n",
       "      <td>2110656.1</td>\n",
       "      <td>2803796.7</td>\n",
       "      <td>65224.2</td>\n",
       "      <td>NaN</td>\n",
       "      <td>NaN</td>\n",
       "    </tr>\n",
       "  </tbody>\n",
       "</table>\n",
       "<p>77 rows × 11 columns</p>\n",
       "</div>"
      ],
      "text/plain": [
       "   country     date    real_gdp  consumption_household  consumption_gov  \\\n",
       "0      CAN  2019-Q1   1925947.3              1113379.2         411846.2   \n",
       "1      DEU  2019-Q1   5088886.9              2642070.2        1026564.8   \n",
       "2      FRA  2019-Q1   3606076.5              1907303.7         884166.0   \n",
       "3      GBR  2019-Q1   3567550.1              2197714.7         771084.2   \n",
       "4      IND  2019-Q1   9949407.1              6087948.5         963546.3   \n",
       "..     ...      ...         ...                    ...              ...   \n",
       "72     ITA  2020-Q3   2727738.9              1600093.4         549045.8   \n",
       "73     JPN  2020-Q3   5363688.0              2895429.5        1132952.3   \n",
       "74     KOR  2020-Q3   2481944.3              1194484.5         424414.4   \n",
       "75     MEX  2020-Q3   2463584.0              1599904.6         298555.7   \n",
       "76     USA  2020-Q3  21650388.2             14454073.2        3175846.0   \n",
       "\n",
       "      capital     export     import  real_gdp_per population employment  \n",
       "0    442100.1   586462.3   652704.8       51582.9        NaN        NaN  \n",
       "1   1076343.1  2136978.2  1799268.2       61281.6        NaN        NaN  \n",
       "2    786109.2  1160656.3  1166065.9       53577.4        NaN        NaN  \n",
       "3    627165.9  1051214.6  1198321.2       53611.1        NaN        NaN  \n",
       "4   2791087.6  2009513.9  2087098.3           NaN        NaN        NaN  \n",
       "..        ...        ...        ...           ...        ...        ...  \n",
       "72   518848.9   780691.8   665004.8       45931.8        NaN        NaN  \n",
       "73  1342293.4   809771.2   800849.0       42667.8        NaN        NaN  \n",
       "74   770516.6   875129.7   775240.4       47880.0        NaN        NaN  \n",
       "75   485396.8  1026267.0   893180.9       19466.6        NaN        NaN  \n",
       "76  4613331.2  2110656.1  2803796.7       65224.2        NaN        NaN  \n",
       "\n",
       "[77 rows x 11 columns]"
      ]
     },
     "execution_count": 6,
     "metadata": {},
     "output_type": "execute_result"
    }
   ],
   "source": [
    "df"
   ]
  }
 ],
 "metadata": {
  "kernelspec": {
   "display_name": "forecasting_lecture",
   "language": "python",
   "name": "python3"
  },
  "language_info": {
   "codemirror_mode": {
    "name": "ipython",
    "version": 3
   },
   "file_extension": ".py",
   "mimetype": "text/x-python",
   "name": "python",
   "nbconvert_exporter": "python",
   "pygments_lexer": "ipython3",
   "version": "3.9.21"
  }
 },
 "nbformat": 4,
 "nbformat_minor": 5
}
